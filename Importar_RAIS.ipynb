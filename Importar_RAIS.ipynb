{
  "nbformat": 4,
  "nbformat_minor": 0,
  "metadata": {
    "colab": {
      "name": "Importar RAIS.ipynb",
      "provenance": [],
      "collapsed_sections": [],
      "mount_file_id": "1klFZuHJTS5LnDwFDd2u4MsoX_ZRjqrrM",
      "authorship_tag": "ABX9TyNBZb8EOVZQe6mk23moSW/a",
      "include_colab_link": true
    },
    "kernelspec": {
      "name": "python3",
      "display_name": "Python 3"
    },
    "accelerator": "GPU"
  },
  "cells": [
    {
      "cell_type": "markdown",
      "metadata": {
        "id": "view-in-github",
        "colab_type": "text"
      },
      "source": [
        "<a href=\"https://colab.research.google.com/github/alerosenberg/rais_ale/blob/main/Importar_RAIS.ipynb\" target=\"_parent\"><img src=\"https://colab.research.google.com/assets/colab-badge.svg\" alt=\"Open In Colab\"/></a>"
      ]
    },
    {
      "cell_type": "markdown",
      "metadata": {
        "id": "DQ7tz_R75PGU"
      },
      "source": [
        "Instalando bibliotecas\n"
      ]
    },
    {
      "cell_type": "code",
      "metadata": {
        "id": "phNiI-zj1uAT"
      },
      "source": [
        "!pip install wget \n",
        "!pip install py7zr\n",
        "!pip install dask\n",
        "!pip install dask[dataframe]\n",
        "#!pip install sys\n",
        "!pip install tqdm\n",
        "#!pip install os\n",
        "!pip install pandas\n",
        "!pip install numpy\n",
        "!pip install scipy\n",
        "!pip install matplotlib\n",
        "!pip install seaborn \n",
        "!pip install deflatebr"
      ],
      "execution_count": null,
      "outputs": []
    },
    {
      "cell_type": "markdown",
      "metadata": {
        "id": "35F3haiE5UxX"
      },
      "source": [
        "Importando bibliotecas"
      ]
    },
    {
      "cell_type": "code",
      "metadata": {
        "id": "QLflO4Ye36Xm",
        "outputId": "428e198f-0fa2-4610-c78d-5bfcd97320f2",
        "colab": {
          "base_uri": "https://localhost:8080/",
          "height": 74
        }
      },
      "source": [
        "import wget\n",
        "import py7zr\n",
        "import dask \n",
        "import dask.dataframe as dd\n",
        "import sys\n",
        "from tqdm import tqdm\n",
        "import py7zr\n",
        "import os\n",
        "import pandas as pd\n",
        "import numpy as np\n",
        "from scipy import stats\n",
        "import statsmodels.api as sm\n",
        "import statsmodels.formula.api as smf\n",
        "from statsmodels.tools.tools import add_constant\n",
        "from statsmodels.graphics.factorplots import interaction_plot\n",
        "from statsmodels.stats.outliers_influence import variance_inflation_factor as vif\n",
        "import matplotlib.pyplot as plt\n",
        "import seaborn as sns\n",
        "from deflatebr import deflate"
      ],
      "execution_count": 3,
      "outputs": [
        {
          "output_type": "stream",
          "text": [
            "/usr/local/lib/python3.6/dist-packages/statsmodels/tools/_testing.py:19: FutureWarning: pandas.util.testing is deprecated. Use the functions in the public API at pandas.testing instead.\n",
            "  import pandas.util.testing as tm\n"
          ],
          "name": "stderr"
        }
      ]
    },
    {
      "cell_type": "markdown",
      "metadata": {
        "id": "QKBiMdWEV3wi"
      },
      "source": [
        "Transferir bases da RAIS para o Google Drive"
      ]
    },
    {
      "cell_type": "code",
      "metadata": {
        "id": "Z1Oh1S97Vv4U"
      },
      "source": [
        "# Acessar o site abaixo:\n",
        "# ftp://ftp.mtps.gov.br/pdet/microdados/RAIS/\n",
        "# Escolher os anos e os estados desejados\n",
        "# Descompatar o arquivo no computador\n",
        "# Transferir o txt para o Google Drive\n",
        "# Cada arquivo (utilizo como referência a RAIS de cada ano para o estado de SP) ocupa cerca de 6GB"
      ],
      "execution_count": 4,
      "outputs": []
    },
    {
      "cell_type": "markdown",
      "metadata": {
        "id": "7wp9IKZwyO1h"
      },
      "source": [
        "Importar arquivos do Google Drive para o Google Colab"
      ]
    },
    {
      "cell_type": "code",
      "metadata": {
        "id": "5B---u89yMjI"
      },
      "source": [
        "#STEP-1: Import libraries\n",
        "!pip install -U -q PyDrive\n",
        "from pydrive.auth import GoogleAuth\n",
        "from pydrive.drive import GoogleDrive\n",
        "from google.colab import auth\n",
        "from oauth2client.client import GoogleCredentials"
      ],
      "execution_count": 5,
      "outputs": []
    },
    {
      "cell_type": "code",
      "metadata": {
        "id": "TLBiCowzy90H"
      },
      "source": [
        "#STEP-2: Autheticate E-Mail ID\n",
        "auth.authenticate_user()\n",
        "gauth = GoogleAuth()\n",
        "gauth.credentials = GoogleCredentials.get_application_default()\n",
        "drive = GoogleDrive(gauth)"
      ],
      "execution_count": 7,
      "outputs": []
    },
    {
      "cell_type": "code",
      "metadata": {
        "id": "P8RUMgzD0nbb"
      },
      "source": [
        "# STEP-3: Get File from Drive using file-ID\n",
        "# Após 'id': na linha abaixo é necessário trocar pelo caminho do arquivo desejado \n",
        "# O caminho pode ser obtido clicando com o botão direito sobre o arquivo e em Gerar Link\n",
        "# Abaixo devem ser indicados os arquivos desejados (que já devem estar presentes no Drive)\n",
        "\n",
        "downloaded08 = drive.CreateFile({'id':'1GGRz7aPkchIv6CWPzp0qM9IPMMFadJeV'})\n",
        "downloaded08.GetContentFile('Estb2008.csv') "
      ],
      "execution_count": 8,
      "outputs": []
    },
    {
      "cell_type": "markdown",
      "metadata": {
        "id": "lJUN2RV25ZkT"
      },
      "source": [
        "Importando dados"
      ]
    },
    {
      "cell_type": "code",
      "metadata": {
        "id": "Nkf88lkU2n5d"
      },
      "source": [
        "#STEP-4: Read File\n",
        "#3.1 Read file as panda dataframe\n",
        "base08 = pd.read_csv('Estb2008.csv', sep=';', encoding=\"latin1\", low_memory=False,\n",
        "                        dtype={ 'Bairros SP': 'object',\n",
        "                                'Distritos SP': 'object',\n",
        "                                'Município': 'object',\n",
        "                                'Natureza Jurídica': 'object',\n",
        "                                'CNAE 2.0 Subclasse': 'object',\n",
        "                                'CNAE 2.0 Classe': 'object',\n",
        "                                'CNAE 95 Classe': 'object'})                 "
      ],
      "execution_count": 58,
      "outputs": []
    },
    {
      "cell_type": "markdown",
      "metadata": {
        "id": "1DcCUT1aI7uX"
      },
      "source": [
        "Filtrar municípios do estado de São Paulo"
      ]
    },
    {
      "cell_type": "code",
      "metadata": {
        "id": "0t_I8o91HsQf"
      },
      "source": [
        "sp = ['350010', \t'350020', \t'350030', \t'350040', \t'350050', \t'350055', \t'350060', \t'350070', \t'350075', \t'350080', \t'350090', \t'350100', \t'350110', \t'350115', \t'350120', \t'350130', \t'350140', \t'350150', \t'350160', \t'350170', \t'350180', \t'350190', \t'350200', \t'350210', \t'350220', \t'350230', \t'350240', \t'350250', \t'350260', \t'350270', \t'350275', \t'350280', \t'350290', \t'350300', \t'350310', \t'350315', \t'350320', \t'350330', \t'350335', \t'350340', \t'350350', \t'350360', \t'350370', \t'350380', \t'350390', \t'350395', \t'350400', \t'350410', \t'350420', \t'350430', \n",
        "'350440', \t'350450', \t'350460', \t'350470', \t'350480', \t'350490', \t'350500', \t'350510', \t'350520', \t'350530', \t'350535', \t'350540', \t'350550', \t'350560', \t'350570', \t'350580', \t'350590', \t'350600', \t'350610', \t'350620', \t'350630', \t'350635', \t'350640', \t'350650', \t'350660', \t'350670', \t'350680', \t'350690', \t'350700', \t'350710', \t'350715', \t'350720', \t'350730', \t'350740', \t'350745', \t'350750', \t'350760', \t'350770', \t'350775', \t'350780', \t'350790', \t'350800', \t'350810', \t'350820', \t'350830', \t'350840', \t'350850', \t'350860', \t'350870', \t'350880', \n",
        "'350890', \t'350900', \t'350910', \t'350920', \t'350925', \t'350930', \t'350940', \t'350945', \t'350950', \t'350960', \t'350970', \t'350980', \t'350990', \t'350995', \t'351000', \t'351010', \t'351015', \t'351020', \t'351030', \t'351040', \t'351050', \t'351060', \t'351070', \t'351080', \t'351090', \t'351100', \t'351110', \t'351120', \t'351130', \t'351140', \t'351150', \t'351160', \t'351170', \t'351190', \t'351200', \t'351210', \t'351220', \t'351230', \t'351240', \t'351250', \t'351260', \t'351270', \t'351280', \t'351290', \t'351300', \t'351310', \t'351320', \t'351330', \t'351340', \t'351350', \n",
        "'351360', \t'351370', \t'351380', \t'351385', \t'351390', \t'351400', \t'351410', \t'351420', \t'351430', \t'351440', \t'351450', \t'351460', \t'351470', \t'351480', \t'351490', \t'351492', \t'351495', \t'351500', \t'351510', \t'351512', \t'351515', \t'351518', \t'351519', \t'351520', \t'351530', \t'351535', \t'351540', \t'351550', \t'351560', \t'351565', \t'351570', \t'351580', \t'351590', \t'351600', \t'351610', \t'351620', \t'351630', \t'351640', \t'351650', \t'351660', \t'351670', \t'351680', \t'351685', \t'351690', \t'351700', \t'351710', \t'351720', \t'351730', \t'351740', \t'351750', \n",
        "'351760', \t'351770', \t'351780', \t'351790', \t'351800', \t'351810', \t'351820', \t'351830', \t'351840', \t'351850', \t'351860', \t'351870', \t'351880', \t'351885', \t'351890', \t'351900', \t'351905', \t'351907', \t'351910', \t'351920', \t'351925', \t'351930', \t'351940', \t'351950', \t'351960', \t'351970', \t'351980', \t'351990', \t'352000', \t'352010', \t'352020', \t'352030', \t'352040', \t'352042', \t'352044', \t'352050', \t'352060', \t'352070', \t'352080', \t'352090', \t'352100', \t'352110', \t'352115', \t'352120', \t'352130', \t'352140', \t'352150', \t'352160', \t'352170', \t'352180', \n",
        "'352190', \t'352200', \t'352210', \t'352215', \t'352220', \t'352230', \t'352240', \t'352250', \t'352260', \t'352265', \t'352270', \t'352280', \t'352290', \t'352300', \t'352310', \t'352320', \t'352330', \t'352340', \t'352350', \t'352360', \t'352370', \t'352380', \t'352390', \t'352400', \t'352410', \t'352420', \t'352430', \t'352440', \t'352450', \t'352460', \t'352470', \t'352480', \t'352490', \t'352500', \t'352510', \t'352520', \t'352530', \t'352540', \t'352550', \t'352560', \t'352570', \t'352580', \t'352585', \t'352590', \t'352600', \t'352610', \t'352620', \t'352630', \t'352640', \t'352650', \n",
        "'352660', \t'352670', \t'352680', \t'352690', \t'352700', \t'352710', \t'352720', \t'352725', \t'352730', \t'352740', \t'352750', \t'352760', \t'352770', \t'352780', \t'352790', \t'352800', \t'352810', \t'352820', \t'352830', \t'352840', \t'352850', \t'352860', \t'352870', \t'352880', \t'352885', \t'352890', \t'352900', \t'352910', \t'352920', \t'352930', \t'352940', \t'352950', \t'352960', \t'352965', \t'352970', \t'352980', \t'352990', \t'353000', \t'353010', \t'353020', \t'353030', \t'353040', \t'353050', \t'353060', \t'353070', \t'353080', \t'353090', \t'353100', \t'353110', \t'353120', \n",
        "'353130', \t'353140', \t'353150', \t'353160', \t'353170', \t'353180', \t'353190', \t'353200', \t'353205', \t'353210', \t'353215', \t'353220', \t'353230', \t'353240', \t'353250', \t'353260', \t'353270', \t'353280', \t'353282', \t'353284', \t'353286', \t'353290', \t'353300', \t'353310', \t'353320', \t'353325', \t'353330', \t'353340', \t'353350', \t'353360', \t'353370', \t'353380', \t'353390', \t'353400', \t'353410', \t'353420', \t'353430', \t'353440', \t'353450', \t'353460', \t'353470', \t'353475', \t'353480', \t'353490', \t'353500', \t'353510', \t'353520', \t'353530', \t'353540', \t'353550', \n",
        "'353560', \t'353570', \t'353580', \t'353590', \t'353600', \t'353610', \t'353620', \t'353625', \t'353630', \t'353640', \t'353650', \t'353657', \t'353660', \t'353670', \t'353680', \t'353690', \t'353700', \t'353710', \t'353715', \t'353720', \t'353730', \t'353740', \t'353750', \t'353760', \t'353770', \t'353780', \t'353790', \t'353800', \t'353810', \t'353820', \t'353830', \t'353850', \t'353860', \t'353870', \t'353880', \t'353890', \t'353900', \t'353910', \t'353920', \t'353930', \t'353940', \t'353950', \t'353960', \t'353970', \t'353980', \t'353990', \t'354000', \t'354010', \t'354020', \t'354025', \n",
        "'354030', \t'354040', \t'354050', \t'354060', \t'354070', \t'354075', \t'354080', \t'354085', \t'354090', \t'354100', \t'354105', \t'354110', \t'354120', \t'354130', \t'354140', \t'354150', \t'354160', \t'354165', \t'354170', \t'354180', \t'354190', \t'354200', \t'354210', \t'354220', \t'354230', \t'354240', \t'354250', \t'354260', \t'354270', \t'354280', \t'354290', \t'354300', \t'354310', \t'354320', \t'354323', \t'354325', \t'354330', \t'354340', \t'354350', \t'354360', \t'354370', \t'354380', \t'354390', \t'354400', \t'354410', \t'354420', \t'354425', \t'354430', \t'354440', \t'354450', \n",
        "'354460', \t'354470', \t'354480', \t'354490', \t'354500', \t'354510', \t'354515', \t'354520', \t'354530', \t'354540', \t'354550', \t'354560', \t'354570', \t'354580', \t'354600', \t'354610', \t'354620', \t'354625', \t'354630', \t'354640', \t'354650', \t'354660', \t'354670', \t'354680', \t'354690', \t'354700', \t'354710', \t'354720', \t'354730', \t'354740', \t'354750', \t'354760', \t'354765', \t'354770', \t'354780', \t'354790', \t'354800', \t'354805', \t'354810', \t'354820', \t'354830', \t'354840', \t'354850', \t'354860', \t'354870', \t'354880', \t'354890', \t'354900', \t'354910', \t'354920', \n",
        "'354925', \t'354930', \t'354940', \t'354950', \t'354960', \t'354970', \t'354980', \t'354990', \t'354995', \t'355000', \t'355010', \t'355020', \t'355030', \t'355040', \t'355050', \t'355060', \t'355070', \t'355080', \t'355090', \t'355100', \t'355110', \t'355120', \t'355130', \t'355140', \t'355150', \t'355160', \t'355170', \t'355180', \t'355190', \t'355200', \t'355210', \t'355220', \t'355230', \t'355240', \t'355250', \t'355255', \t'355260', \t'355270', \t'355280', \t'355290', \t'355300', \t'355310', \t'355320', \t'355330', \t'355340', \t'355350', \t'355360', \t'355365', \t'355370', \t'355380', \n",
        "'355385', \t'355390', \t'355395', \t'355400', \t'355410', \t'355420', \t'355430', \t'355440', \t'355450', \t'355460', \t'355465', \t'355470', \t'355475', \t'355480', \t'355490', \t'355495', \t'355500', \t'355510', \t'355520', \t'355530', \t'355535', \t'355540', \t'355550', \t'355560', \t'355570', \t'355580', \t'355590', \t'355600', \t'355610', \t'355620', \t'355630', \t'355635', \t'355640', \t'355645', \t'355650', \t'355660', \t'355670', \t'355680', \t'355690', \t'355695', \t'355700', \t'355710', \t'355715', \t'355720', \t'355730', \t'359999']\n",
        "base08 = base08[base08.Município.isin(sp)]"
      ],
      "execution_count": 88,
      "outputs": []
    },
    {
      "cell_type": "markdown",
      "metadata": {
        "id": "AQhp_pmu8MjZ"
      },
      "source": [
        "Visualizar dados"
      ]
    },
    {
      "cell_type": "code",
      "metadata": {
        "id": "b2vJBzqu-yef",
        "outputId": "e2a8a7ad-d223-43a0-c76f-e4d24ad2ab71",
        "colab": {
          "base_uri": "https://localhost:8080/",
          "height": 145
        }
      },
      "source": [
        "base08.columns\n"
      ],
      "execution_count": 89,
      "outputs": [
        {
          "output_type": "execute_result",
          "data": {
            "text/plain": [
              "Index(['Bairros_SP', 'CNAE_2_Classe', 'CNAE_95_Classe', 'Distritos_SP',\n",
              "       'Qtd_Vínculos_CLT', 'Qtd_Vínculos_Ativos', 'Qtd_Vínculos_Estatutários',\n",
              "       'Ind_Atividade_Ano', 'Ind_CEI_Vinculado', 'Ind_Estab_Participa_PAT',\n",
              "       'Ind_Rais_Negativa', 'Ind_Simples', 'Município', 'Natureza_Jurídica',\n",
              "       'CNAE_2_Subclasse', 'Tamanho_Estabelecimento', 'Tipo_Estab',\n",
              "       'Tipo_Estab1'],\n",
              "      dtype='object')"
            ]
          },
          "metadata": {
            "tags": []
          },
          "execution_count": 89
        }
      ]
    },
    {
      "cell_type": "markdown",
      "metadata": {
        "id": "9xGo7dqGYwg2"
      },
      "source": [
        "Renomear colunas"
      ]
    },
    {
      "cell_type": "code",
      "metadata": {
        "id": "G-7wSBOJYyyB"
      },
      "source": [
        "base08.rename(columns = {'Bairros SP': 'Bairros_SP', 'CNAE 2.0 Classe': 'CNAE_2_Classe',\n",
        "'CNAE 95 Classe': 'CNAE_95_Classe', 'Distritos SP': 'Distritos_SP',\n",
        "'Qtd Vínculos CLT': 'Qtd_Vínculos_CLT', 'Qtd Vínculos Ativos': 'Qtd_Vínculos_Ativos', \n",
        "'Qtd Vínculos Estatutários': 'Qtd_Vínculos_Estatutários', 'Ind Atividade Ano': 'Ind_Atividade_Ano',\n",
        "'Ind CEI Vinculado': 'Ind_CEI_Vinculado', 'Ind Estab Participa PAT': 'Ind_Estab_Participa_PAT',\n",
        "'Ind Rais Negativa': 'Ind_Rais_Negativa', 'Ind Simples': 'Ind_Simples',\n",
        "'Natureza Jurídica': 'Natureza_Jurídica', 'CNAE 2.0 Subclasse': 'CNAE_2_Subclasse',\n",
        "'Tamanho Estabelecimento': 'Tamanho_Estabelecimento', 'Tipo Estab': 'Tipo_Estab',\n",
        "'Tipo Estab.1': 'Tipo_Estab1','Bairros Fortaleza': 'Bairros_Fortaleza',\n",
        "'Bairros RJ': 'Bairros_RJ', 'Regiões Adm DF': 'Regiões_Adm_DF'}, inplace=True)"
      ],
      "execution_count": 61,
      "outputs": []
    },
    {
      "cell_type": "code",
      "metadata": {
        "id": "sr9Wy3N8avHx",
        "outputId": "5a107155-1b50-4404-cca8-3c7ec88f6d3d",
        "colab": {
          "base_uri": "https://localhost:8080/",
          "height": 163
        }
      },
      "source": [
        "base08.columns"
      ],
      "execution_count": 62,
      "outputs": [
        {
          "output_type": "execute_result",
          "data": {
            "text/plain": [
              "Index(['Bairros_SP', 'Bairros_Fortaleza', 'Bairros_RJ', 'CNAE_2_Classe',\n",
              "       'CNAE_95_Classe', 'Distritos_SP', 'Qtd_Vínculos_CLT',\n",
              "       'Qtd_Vínculos_Ativos', 'Qtd_Vínculos_Estatutários', 'Ind_Atividade_Ano',\n",
              "       'Ind_CEI_Vinculado', 'Ind_Estab_Participa_PAT', 'Ind_Rais_Negativa',\n",
              "       'Ind_Simples', 'Município', 'Natureza_Jurídica', 'Regiões_Adm_DF',\n",
              "       'CNAE_2_Subclasse', 'Tamanho_Estabelecimento', 'Tipo_Estab',\n",
              "       'Tipo_Estab1'],\n",
              "      dtype='object')"
            ]
          },
          "metadata": {
            "tags": []
          },
          "execution_count": 62
        }
      ]
    },
    {
      "cell_type": "markdown",
      "metadata": {
        "id": "0gYIi58BI96S"
      },
      "source": [
        "Seleção de colunas\n"
      ]
    },
    {
      "cell_type": "code",
      "metadata": {
        "id": "aaMY_U0Uf_z1",
        "outputId": "22421daa-9804-4717-a660-a6185d39dce0",
        "colab": {
          "base_uri": "https://localhost:8080/",
          "height": 163
        }
      },
      "source": [
        "base08 = base08.filter(items=['Bairros_SP','CNAE_2_Classe',\n",
        "       'CNAE_95_Classe', 'Distritos_SP', 'Qtd_Vínculos_CLT',\n",
        "       'Qtd_Vínculos_Ativos', 'Qtd_Vínculos_Estatutários', 'Ind_Atividade_Ano',\n",
        "       'Ind_CEI_Vinculado', 'Ind_Estab_Participa_PAT', 'Ind_Rais_Negativa',\n",
        "       'Ind_Simples', 'Município', 'Natureza_Jurídica',\n",
        "       'CNAE_2_Subclasse', 'Tamanho_Estabelecimento', 'Tipo_Estab','Tipo_Estab1'])\n",
        "print(base08.shape)\n",
        "base08.columns"
      ],
      "execution_count": 63,
      "outputs": [
        {
          "output_type": "stream",
          "text": [
            "(2132287, 18)\n"
          ],
          "name": "stdout"
        },
        {
          "output_type": "execute_result",
          "data": {
            "text/plain": [
              "Index(['Bairros_SP', 'CNAE_2_Classe', 'CNAE_95_Classe', 'Distritos_SP',\n",
              "       'Qtd_Vínculos_CLT', 'Qtd_Vínculos_Ativos', 'Qtd_Vínculos_Estatutários',\n",
              "       'Ind_Atividade_Ano', 'Ind_CEI_Vinculado', 'Ind_Estab_Participa_PAT',\n",
              "       'Ind_Rais_Negativa', 'Ind_Simples', 'Município', 'Natureza_Jurídica',\n",
              "       'CNAE_2_Subclasse', 'Tamanho_Estabelecimento', 'Tipo_Estab',\n",
              "       'Tipo_Estab1'],\n",
              "      dtype='object')"
            ]
          },
          "metadata": {
            "tags": []
          },
          "execution_count": 63
        }
      ]
    },
    {
      "cell_type": "code",
      "metadata": {
        "id": "08Lgx2MpAE3Y",
        "outputId": "ed867251-44f6-43ff-8622-1610b2a5b45e",
        "colab": {
          "base_uri": "https://localhost:8080/",
          "height": 348
        }
      },
      "source": [
        "base08[[\"Município\"]].head(10)"
      ],
      "execution_count": 64,
      "outputs": [
        {
          "output_type": "execute_result",
          "data": {
            "text/html": [
              "<div>\n",
              "<style scoped>\n",
              "    .dataframe tbody tr th:only-of-type {\n",
              "        vertical-align: middle;\n",
              "    }\n",
              "\n",
              "    .dataframe tbody tr th {\n",
              "        vertical-align: top;\n",
              "    }\n",
              "\n",
              "    .dataframe thead th {\n",
              "        text-align: right;\n",
              "    }\n",
              "</style>\n",
              "<table border=\"1\" class=\"dataframe\">\n",
              "  <thead>\n",
              "    <tr style=\"text-align: right;\">\n",
              "      <th></th>\n",
              "      <th>Município</th>\n",
              "    </tr>\n",
              "  </thead>\n",
              "  <tbody>\n",
              "    <tr>\n",
              "      <th>2821015</th>\n",
              "      <td>354850</td>\n",
              "    </tr>\n",
              "    <tr>\n",
              "      <th>2821016</th>\n",
              "      <td>355030</td>\n",
              "    </tr>\n",
              "    <tr>\n",
              "      <th>2821017</th>\n",
              "      <td>352530</td>\n",
              "    </tr>\n",
              "    <tr>\n",
              "      <th>2821018</th>\n",
              "      <td>354340</td>\n",
              "    </tr>\n",
              "    <tr>\n",
              "      <th>2821019</th>\n",
              "      <td>350550</td>\n",
              "    </tr>\n",
              "    <tr>\n",
              "      <th>2821020</th>\n",
              "      <td>350600</td>\n",
              "    </tr>\n",
              "    <tr>\n",
              "      <th>2821021</th>\n",
              "      <td>351110</td>\n",
              "    </tr>\n",
              "    <tr>\n",
              "      <th>2821022</th>\n",
              "      <td>350950</td>\n",
              "    </tr>\n",
              "    <tr>\n",
              "      <th>2821023</th>\n",
              "      <td>351620</td>\n",
              "    </tr>\n",
              "    <tr>\n",
              "      <th>2821024</th>\n",
              "      <td>350610</td>\n",
              "    </tr>\n",
              "  </tbody>\n",
              "</table>\n",
              "</div>"
            ],
            "text/plain": [
              "        Município\n",
              "2821015    354850\n",
              "2821016    355030\n",
              "2821017    352530\n",
              "2821018    354340\n",
              "2821019    350550\n",
              "2821020    350600\n",
              "2821021    351110\n",
              "2821022    350950\n",
              "2821023    351620\n",
              "2821024    350610"
            ]
          },
          "metadata": {
            "tags": []
          },
          "execution_count": 64
        }
      ]
    },
    {
      "cell_type": "code",
      "metadata": {
        "id": "bT4GpJTCU8rn",
        "outputId": "0625c162-95fc-4a0c-9946-b8f593f38621",
        "colab": {
          "base_uri": "https://localhost:8080/",
          "height": 218
        }
      },
      "source": [
        "base08.iloc[50000:50005]"
      ],
      "execution_count": 65,
      "outputs": [
        {
          "output_type": "execute_result",
          "data": {
            "text/html": [
              "<div>\n",
              "<style scoped>\n",
              "    .dataframe tbody tr th:only-of-type {\n",
              "        vertical-align: middle;\n",
              "    }\n",
              "\n",
              "    .dataframe tbody tr th {\n",
              "        vertical-align: top;\n",
              "    }\n",
              "\n",
              "    .dataframe thead th {\n",
              "        text-align: right;\n",
              "    }\n",
              "</style>\n",
              "<table border=\"1\" class=\"dataframe\">\n",
              "  <thead>\n",
              "    <tr style=\"text-align: right;\">\n",
              "      <th></th>\n",
              "      <th>Bairros_SP</th>\n",
              "      <th>CNAE_2_Classe</th>\n",
              "      <th>CNAE_95_Classe</th>\n",
              "      <th>Distritos_SP</th>\n",
              "      <th>Qtd_Vínculos_CLT</th>\n",
              "      <th>Qtd_Vínculos_Ativos</th>\n",
              "      <th>Qtd_Vínculos_Estatutários</th>\n",
              "      <th>Ind_Atividade_Ano</th>\n",
              "      <th>Ind_CEI_Vinculado</th>\n",
              "      <th>Ind_Estab_Participa_PAT</th>\n",
              "      <th>Ind_Rais_Negativa</th>\n",
              "      <th>Ind_Simples</th>\n",
              "      <th>Município</th>\n",
              "      <th>Natureza_Jurídica</th>\n",
              "      <th>CNAE_2_Subclasse</th>\n",
              "      <th>Tamanho_Estabelecimento</th>\n",
              "      <th>Tipo_Estab</th>\n",
              "      <th>Tipo_Estab1</th>\n",
              "    </tr>\n",
              "  </thead>\n",
              "  <tbody>\n",
              "    <tr>\n",
              "      <th>2871015</th>\n",
              "      <td>9999</td>\n",
              "      <td>49299</td>\n",
              "      <td>60259</td>\n",
              "      <td>9999</td>\n",
              "      <td>1</td>\n",
              "      <td>1</td>\n",
              "      <td>0</td>\n",
              "      <td>1</td>\n",
              "      <td>0</td>\n",
              "      <td>0</td>\n",
              "      <td>0</td>\n",
              "      <td>1</td>\n",
              "      <td>350370</td>\n",
              "      <td>2062</td>\n",
              "      <td>4929901</td>\n",
              "      <td>2</td>\n",
              "      <td>1</td>\n",
              "      <td>Cnpj</td>\n",
              "    </tr>\n",
              "    <tr>\n",
              "      <th>2871016</th>\n",
              "      <td>0021</td>\n",
              "      <td>14126</td>\n",
              "      <td>18120</td>\n",
              "      <td>0009</td>\n",
              "      <td>12</td>\n",
              "      <td>12</td>\n",
              "      <td>0</td>\n",
              "      <td>1</td>\n",
              "      <td>0</td>\n",
              "      <td>0</td>\n",
              "      <td>0</td>\n",
              "      <td>0</td>\n",
              "      <td>355030</td>\n",
              "      <td>2062</td>\n",
              "      <td>1412601</td>\n",
              "      <td>4</td>\n",
              "      <td>1</td>\n",
              "      <td>Cnpj</td>\n",
              "    </tr>\n",
              "    <tr>\n",
              "      <th>2871017</th>\n",
              "      <td>9999</td>\n",
              "      <td>56112</td>\n",
              "      <td>55220</td>\n",
              "      <td>9999</td>\n",
              "      <td>47</td>\n",
              "      <td>47</td>\n",
              "      <td>0</td>\n",
              "      <td>1</td>\n",
              "      <td>0</td>\n",
              "      <td>1</td>\n",
              "      <td>0</td>\n",
              "      <td>0</td>\n",
              "      <td>350950</td>\n",
              "      <td>2062</td>\n",
              "      <td>5611203</td>\n",
              "      <td>5</td>\n",
              "      <td>1</td>\n",
              "      <td>Cnpj</td>\n",
              "    </tr>\n",
              "    <tr>\n",
              "      <th>2871018</th>\n",
              "      <td>9999</td>\n",
              "      <td>56112</td>\n",
              "      <td>55220</td>\n",
              "      <td>9999</td>\n",
              "      <td>95</td>\n",
              "      <td>95</td>\n",
              "      <td>0</td>\n",
              "      <td>1</td>\n",
              "      <td>0</td>\n",
              "      <td>1</td>\n",
              "      <td>0</td>\n",
              "      <td>0</td>\n",
              "      <td>350950</td>\n",
              "      <td>2062</td>\n",
              "      <td>5611203</td>\n",
              "      <td>6</td>\n",
              "      <td>1</td>\n",
              "      <td>Cnpj</td>\n",
              "    </tr>\n",
              "    <tr>\n",
              "      <th>2871019</th>\n",
              "      <td>9999</td>\n",
              "      <td>18130</td>\n",
              "      <td>22225</td>\n",
              "      <td>9999</td>\n",
              "      <td>6</td>\n",
              "      <td>6</td>\n",
              "      <td>0</td>\n",
              "      <td>1</td>\n",
              "      <td>0</td>\n",
              "      <td>0</td>\n",
              "      <td>0</td>\n",
              "      <td>1</td>\n",
              "      <td>352690</td>\n",
              "      <td>2062</td>\n",
              "      <td>1813001</td>\n",
              "      <td>3</td>\n",
              "      <td>1</td>\n",
              "      <td>Cnpj</td>\n",
              "    </tr>\n",
              "  </tbody>\n",
              "</table>\n",
              "</div>"
            ],
            "text/plain": [
              "                   Bairros_SP CNAE_2_Classe  ... Tipo_Estab           Tipo_Estab1\n",
              "2871015                  9999         49299  ...          1  Cnpj                \n",
              "2871016                  0021         14126  ...          1  Cnpj                \n",
              "2871017                  9999         56112  ...          1  Cnpj                \n",
              "2871018                  9999         56112  ...          1  Cnpj                \n",
              "2871019                  9999         18130  ...          1  Cnpj                \n",
              "\n",
              "[5 rows x 18 columns]"
            ]
          },
          "metadata": {
            "tags": []
          },
          "execution_count": 65
        }
      ]
    },
    {
      "cell_type": "code",
      "metadata": {
        "id": "NmhXz4maVxUP",
        "outputId": "f789496c-a309-48f0-cc1a-7c9bcddfd317",
        "colab": {
          "base_uri": "https://localhost:8080/",
          "height": 218
        }
      },
      "source": [
        "base08.sort_values(\"Município\", ascending=True).head(5)"
      ],
      "execution_count": 66,
      "outputs": [
        {
          "output_type": "execute_result",
          "data": {
            "text/html": [
              "<div>\n",
              "<style scoped>\n",
              "    .dataframe tbody tr th:only-of-type {\n",
              "        vertical-align: middle;\n",
              "    }\n",
              "\n",
              "    .dataframe tbody tr th {\n",
              "        vertical-align: top;\n",
              "    }\n",
              "\n",
              "    .dataframe thead th {\n",
              "        text-align: right;\n",
              "    }\n",
              "</style>\n",
              "<table border=\"1\" class=\"dataframe\">\n",
              "  <thead>\n",
              "    <tr style=\"text-align: right;\">\n",
              "      <th></th>\n",
              "      <th>Bairros_SP</th>\n",
              "      <th>CNAE_2_Classe</th>\n",
              "      <th>CNAE_95_Classe</th>\n",
              "      <th>Distritos_SP</th>\n",
              "      <th>Qtd_Vínculos_CLT</th>\n",
              "      <th>Qtd_Vínculos_Ativos</th>\n",
              "      <th>Qtd_Vínculos_Estatutários</th>\n",
              "      <th>Ind_Atividade_Ano</th>\n",
              "      <th>Ind_CEI_Vinculado</th>\n",
              "      <th>Ind_Estab_Participa_PAT</th>\n",
              "      <th>Ind_Rais_Negativa</th>\n",
              "      <th>Ind_Simples</th>\n",
              "      <th>Município</th>\n",
              "      <th>Natureza_Jurídica</th>\n",
              "      <th>CNAE_2_Subclasse</th>\n",
              "      <th>Tamanho_Estabelecimento</th>\n",
              "      <th>Tipo_Estab</th>\n",
              "      <th>Tipo_Estab1</th>\n",
              "    </tr>\n",
              "  </thead>\n",
              "  <tbody>\n",
              "    <tr>\n",
              "      <th>3692118</th>\n",
              "      <td>9999</td>\n",
              "      <td>14126</td>\n",
              "      <td>18120</td>\n",
              "      <td>9999</td>\n",
              "      <td>0</td>\n",
              "      <td>0</td>\n",
              "      <td>0</td>\n",
              "      <td>0</td>\n",
              "      <td>0</td>\n",
              "      <td>0</td>\n",
              "      <td>1</td>\n",
              "      <td>0</td>\n",
              "      <td>350010</td>\n",
              "      <td>2062</td>\n",
              "      <td>1412601</td>\n",
              "      <td>1</td>\n",
              "      <td>1</td>\n",
              "      <td>Cnpj</td>\n",
              "    </tr>\n",
              "    <tr>\n",
              "      <th>3328470</th>\n",
              "      <td>9999</td>\n",
              "      <td>47440</td>\n",
              "      <td>52442</td>\n",
              "      <td>9999</td>\n",
              "      <td>7</td>\n",
              "      <td>7</td>\n",
              "      <td>0</td>\n",
              "      <td>1</td>\n",
              "      <td>0</td>\n",
              "      <td>0</td>\n",
              "      <td>0</td>\n",
              "      <td>0</td>\n",
              "      <td>350010</td>\n",
              "      <td>2062</td>\n",
              "      <td>4744001</td>\n",
              "      <td>3</td>\n",
              "      <td>1</td>\n",
              "      <td>Cnpj</td>\n",
              "    </tr>\n",
              "    <tr>\n",
              "      <th>4697293</th>\n",
              "      <td>9999</td>\n",
              "      <td>47636</td>\n",
              "      <td>52493</td>\n",
              "      <td>9999</td>\n",
              "      <td>0</td>\n",
              "      <td>0</td>\n",
              "      <td>0</td>\n",
              "      <td>1</td>\n",
              "      <td>0</td>\n",
              "      <td>0</td>\n",
              "      <td>1</td>\n",
              "      <td>1</td>\n",
              "      <td>350010</td>\n",
              "      <td>2062</td>\n",
              "      <td>4763604</td>\n",
              "      <td>1</td>\n",
              "      <td>1</td>\n",
              "      <td>Cnpj</td>\n",
              "    </tr>\n",
              "    <tr>\n",
              "      <th>4312687</th>\n",
              "      <td>9999</td>\n",
              "      <td>01512</td>\n",
              "      <td>01414</td>\n",
              "      <td>9999</td>\n",
              "      <td>0</td>\n",
              "      <td>0</td>\n",
              "      <td>0</td>\n",
              "      <td>1</td>\n",
              "      <td>0</td>\n",
              "      <td>0</td>\n",
              "      <td>1</td>\n",
              "      <td>0</td>\n",
              "      <td>350010</td>\n",
              "      <td>4080</td>\n",
              "      <td>0151201</td>\n",
              "      <td>1</td>\n",
              "      <td>1</td>\n",
              "      <td>Cnpj</td>\n",
              "    </tr>\n",
              "    <tr>\n",
              "      <th>2839263</th>\n",
              "      <td>9999</td>\n",
              "      <td>45307</td>\n",
              "      <td>50300</td>\n",
              "      <td>9999</td>\n",
              "      <td>5</td>\n",
              "      <td>5</td>\n",
              "      <td>0</td>\n",
              "      <td>1</td>\n",
              "      <td>0</td>\n",
              "      <td>0</td>\n",
              "      <td>0</td>\n",
              "      <td>1</td>\n",
              "      <td>350010</td>\n",
              "      <td>2135</td>\n",
              "      <td>4530703</td>\n",
              "      <td>3</td>\n",
              "      <td>1</td>\n",
              "      <td>Cnpj</td>\n",
              "    </tr>\n",
              "  </tbody>\n",
              "</table>\n",
              "</div>"
            ],
            "text/plain": [
              "                   Bairros_SP CNAE_2_Classe  ... Tipo_Estab           Tipo_Estab1\n",
              "3692118                  9999         14126  ...          1  Cnpj                \n",
              "3328470                  9999         47440  ...          1  Cnpj                \n",
              "4697293                  9999         47636  ...          1  Cnpj                \n",
              "4312687                  9999         01512  ...          1  Cnpj                \n",
              "2839263                  9999         45307  ...          1  Cnpj                \n",
              "\n",
              "[5 rows x 18 columns]"
            ]
          },
          "metadata": {
            "tags": []
          },
          "execution_count": 66
        }
      ]
    },
    {
      "cell_type": "code",
      "metadata": {
        "id": "4cOMnagcqWj1",
        "outputId": "667aab40-d2cf-4428-fcae-253dc0d55c18",
        "colab": {
          "base_uri": "https://localhost:8080/",
          "height": 427
        }
      },
      "source": [
        "cubo = base08.groupby([\"CNAE_95_Classe\",\"Qtd_Vínculos_CLT\",\"Ind_Atividade_Ano\",\"Ind_CEI_Vinculado\",\n",
        "\"Ind_Rais_Negativa\",\"Ind_Simples\",\"Município\",\"Natureza_Jurídica\",\"Tamanho_Estabelecimento\"])[\"CNAE_95_Classe\"].count().reset_index(name=\"count\")\n",
        "cubo\n",
        "# cubo = base08.groupby(['CNAE_95_Classe','Qtd_Vínculos_CLT','Ind_Atividade_Ano','Ind_CEI_Vinculado',\n",
        "# 'Ind_Rais_Negativa','Ind_Simples','Município','Natureza_Jurídica','Tamanho_Estabelecimento']).count()"
      ],
      "execution_count": 98,
      "outputs": [
        {
          "output_type": "execute_result",
          "data": {
            "text/html": [
              "<div>\n",
              "<style scoped>\n",
              "    .dataframe tbody tr th:only-of-type {\n",
              "        vertical-align: middle;\n",
              "    }\n",
              "\n",
              "    .dataframe tbody tr th {\n",
              "        vertical-align: top;\n",
              "    }\n",
              "\n",
              "    .dataframe thead th {\n",
              "        text-align: right;\n",
              "    }\n",
              "</style>\n",
              "<table border=\"1\" class=\"dataframe\">\n",
              "  <thead>\n",
              "    <tr style=\"text-align: right;\">\n",
              "      <th></th>\n",
              "      <th>CNAE_95_Classe</th>\n",
              "      <th>Qtd_Vínculos_CLT</th>\n",
              "      <th>Ind_Atividade_Ano</th>\n",
              "      <th>Ind_CEI_Vinculado</th>\n",
              "      <th>Ind_Rais_Negativa</th>\n",
              "      <th>Ind_Simples</th>\n",
              "      <th>Município</th>\n",
              "      <th>Natureza_Jurídica</th>\n",
              "      <th>Tamanho_Estabelecimento</th>\n",
              "      <th>count</th>\n",
              "    </tr>\n",
              "  </thead>\n",
              "  <tbody>\n",
              "    <tr>\n",
              "      <th>0</th>\n",
              "      <td>000-1</td>\n",
              "      <td>0</td>\n",
              "      <td>1</td>\n",
              "      <td>1</td>\n",
              "      <td>0</td>\n",
              "      <td>0</td>\n",
              "      <td>352130</td>\n",
              "      <td>2062</td>\n",
              "      <td>1</td>\n",
              "      <td>1</td>\n",
              "    </tr>\n",
              "    <tr>\n",
              "      <th>1</th>\n",
              "      <td>000-1</td>\n",
              "      <td>1</td>\n",
              "      <td>1</td>\n",
              "      <td>1</td>\n",
              "      <td>0</td>\n",
              "      <td>0</td>\n",
              "      <td>351740</td>\n",
              "      <td>2062</td>\n",
              "      <td>2</td>\n",
              "      <td>1</td>\n",
              "    </tr>\n",
              "    <tr>\n",
              "      <th>2</th>\n",
              "      <td>000-1</td>\n",
              "      <td>3</td>\n",
              "      <td>1</td>\n",
              "      <td>1</td>\n",
              "      <td>0</td>\n",
              "      <td>0</td>\n",
              "      <td>352240</td>\n",
              "      <td>2062</td>\n",
              "      <td>2</td>\n",
              "      <td>1</td>\n",
              "    </tr>\n",
              "    <tr>\n",
              "      <th>3</th>\n",
              "      <td>01112</td>\n",
              "      <td>0</td>\n",
              "      <td>0</td>\n",
              "      <td>0</td>\n",
              "      <td>0</td>\n",
              "      <td>0</td>\n",
              "      <td>351740</td>\n",
              "      <td>3069</td>\n",
              "      <td>1</td>\n",
              "      <td>1</td>\n",
              "    </tr>\n",
              "    <tr>\n",
              "      <th>4</th>\n",
              "      <td>01112</td>\n",
              "      <td>0</td>\n",
              "      <td>0</td>\n",
              "      <td>0</td>\n",
              "      <td>0</td>\n",
              "      <td>0</td>\n",
              "      <td>352240</td>\n",
              "      <td>4080</td>\n",
              "      <td>1</td>\n",
              "      <td>2</td>\n",
              "    </tr>\n",
              "    <tr>\n",
              "      <th>...</th>\n",
              "      <td>...</td>\n",
              "      <td>...</td>\n",
              "      <td>...</td>\n",
              "      <td>...</td>\n",
              "      <td>...</td>\n",
              "      <td>...</td>\n",
              "      <td>...</td>\n",
              "      <td>...</td>\n",
              "      <td>...</td>\n",
              "      <td>...</td>\n",
              "    </tr>\n",
              "    <tr>\n",
              "      <th>573209</th>\n",
              "      <td>99007</td>\n",
              "      <td>186</td>\n",
              "      <td>1</td>\n",
              "      <td>0</td>\n",
              "      <td>0</td>\n",
              "      <td>0</td>\n",
              "      <td>353710</td>\n",
              "      <td>2054</td>\n",
              "      <td>7</td>\n",
              "      <td>1</td>\n",
              "    </tr>\n",
              "    <tr>\n",
              "      <th>573210</th>\n",
              "      <td>99007</td>\n",
              "      <td>200</td>\n",
              "      <td>1</td>\n",
              "      <td>0</td>\n",
              "      <td>0</td>\n",
              "      <td>0</td>\n",
              "      <td>354520</td>\n",
              "      <td>2062</td>\n",
              "      <td>7</td>\n",
              "      <td>1</td>\n",
              "    </tr>\n",
              "    <tr>\n",
              "      <th>573211</th>\n",
              "      <td>99007</td>\n",
              "      <td>208</td>\n",
              "      <td>1</td>\n",
              "      <td>0</td>\n",
              "      <td>0</td>\n",
              "      <td>0</td>\n",
              "      <td>354520</td>\n",
              "      <td>2062</td>\n",
              "      <td>7</td>\n",
              "      <td>1</td>\n",
              "    </tr>\n",
              "    <tr>\n",
              "      <th>573212</th>\n",
              "      <td>99007</td>\n",
              "      <td>219</td>\n",
              "      <td>1</td>\n",
              "      <td>0</td>\n",
              "      <td>0</td>\n",
              "      <td>0</td>\n",
              "      <td>354520</td>\n",
              "      <td>2062</td>\n",
              "      <td>7</td>\n",
              "      <td>1</td>\n",
              "    </tr>\n",
              "    <tr>\n",
              "      <th>573213</th>\n",
              "      <td>99007</td>\n",
              "      <td>322</td>\n",
              "      <td>1</td>\n",
              "      <td>0</td>\n",
              "      <td>0</td>\n",
              "      <td>0</td>\n",
              "      <td>354520</td>\n",
              "      <td>2062</td>\n",
              "      <td>8</td>\n",
              "      <td>1</td>\n",
              "    </tr>\n",
              "  </tbody>\n",
              "</table>\n",
              "<p>573214 rows × 10 columns</p>\n",
              "</div>"
            ],
            "text/plain": [
              "       CNAE_95_Classe  Qtd_Vínculos_CLT  ...  Tamanho_Estabelecimento  count\n",
              "0               000-1                 0  ...                        1      1\n",
              "1               000-1                 1  ...                        2      1\n",
              "2               000-1                 3  ...                        2      1\n",
              "3               01112                 0  ...                        1      1\n",
              "4               01112                 0  ...                        1      2\n",
              "...               ...               ...  ...                      ...    ...\n",
              "573209          99007               186  ...                        7      1\n",
              "573210          99007               200  ...                        7      1\n",
              "573211          99007               208  ...                        7      1\n",
              "573212          99007               219  ...                        7      1\n",
              "573213          99007               322  ...                        8      1\n",
              "\n",
              "[573214 rows x 10 columns]"
            ]
          },
          "metadata": {
            "tags": []
          },
          "execution_count": 98
        }
      ]
    },
    {
      "cell_type": "markdown",
      "metadata": {
        "id": "Ui2NmCkG9mw1"
      },
      "source": [
        "Exportar como csv para o Drive"
      ]
    },
    {
      "cell_type": "code",
      "metadata": {
        "id": "6LCFvSEw9CD8"
      },
      "source": [
        "cubo.to_csv('cubo_rais_08.csv')\n",
        "!cp cubo_rais_08.csv \"drive/My Drive/Cubo\""
      ],
      "execution_count": 99,
      "outputs": []
    },
    {
      "cell_type": "code",
      "metadata": {
        "id": "LkedNRyPCx02"
      },
      "source": [
        "\n",
        "# # Corrige grau de escolaridade para obter valor 0\n",
        "#     base['Escolaridade após 2005'] = pd.to_numeric(dados['Escolaridade após 2005'], errors=\"coerce\")\n",
        "#     dados['Escolaridade após 2005'] -= 1\n",
        "#     # Coloca label em sexo\n",
        "#     dados['Sexo Trabalhador'] = pd.to_numeric(dados['Sexo Trabalhador'],errors=\"coerce\")\n",
        "#     dados.loc[dados['Sexo Trabalhador'] == 1, 'Sexo Trabalhador'] = \"Masculino\"\n",
        "#     dados.loc[dados['Sexo Trabalhador'] == 2, 'Sexo Trabalhador'] = \"Feminino\"\n",
        "#     # Filtra apenas quem Raça Cor não é 99\n",
        "#     dados['Raça Cor'] = pd.to_numeric(dados['Raça Cor'], errors=\"coerce\")\n",
        "#     dados = dados.loc[dados[\"Raça Cor\"] != 99,:]\n",
        "#     # Coloca label em raça\n",
        "#     dados.loc[dados[\"Raça Cor\"] == 1, 'Raça Cor'] = \"Indígena\"\n",
        "#     dados.loc[dados[\"Raça Cor\"] == 2, 'Raça Cor'] = \"Branca\"\n",
        "#     dados.loc[dados[\"Raça Cor\"] == 4, 'Raça Cor'] = \"Preta\"\n",
        "#     dados.loc[dados[\"Raça Cor\"] == 6, 'Raça Cor'] = \"Amarela\"\n",
        "#     dados.loc[dados[\"Raça Cor\"] == 8, 'Raça Cor'] = \"Parda\"\n",
        "#     dados.loc[dados[\"Raça Cor\"] == 9, 'Raça Cor'] = \"Não identificada\"\n",
        "#     # Filtra apenas quem tem salário maior que 0 e idade de 18 a 80 anos\n",
        "#     dados['Idade'] = pd.to_numeric(dados['Idade'], errors=\"coerce\")\n",
        "#     dados = dados.loc[(dados['Vl Remun Média Nom'] > 0) & \n",
        "#                         (dados['Idade'] > 17) & \n",
        "#                         (dados['Idade'] < 81), :]\n",
        "\n",
        "#     # Cria variável binária Brasileiro\n",
        "#     dados['Nacionalidade'] = pd.to_numeric(dados['Nacionalidade'], errors=\"coerce\")\n",
        "#     dados['Brasileiro'] = dados['Nacionalidade'].apply(lambda x: 1 if (x == 10) else 0)\n"
      ],
      "execution_count": null,
      "outputs": []
    },
    {
      "cell_type": "code",
      "metadata": {
        "id": "fCKyHIghbqeP"
      },
      "source": [
        "#  import tensorflow as tf\n",
        "#  tf.test.gpu_device_name()\n",
        "#!cat /proc/meminfo"
      ],
      "execution_count": null,
      "outputs": []
    }
  ]
}