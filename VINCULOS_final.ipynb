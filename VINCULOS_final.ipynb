{
  "nbformat": 4,
  "nbformat_minor": 0,
  "metadata": {
    "colab": {
      "name": "VINCULOS_final.ipynb",
      "provenance": [],
      "collapsed_sections": [],
      "authorship_tag": "ABX9TyNdirRRWe2XS+xRQeIpvinJ",
      "include_colab_link": true
    },
    "kernelspec": {
      "name": "python3",
      "display_name": "Python 3"
    }
  },
  "cells": [
    {
      "cell_type": "markdown",
      "metadata": {
        "id": "view-in-github",
        "colab_type": "text"
      },
      "source": [
        "<a href=\"https://colab.research.google.com/github/alerosenberg/rais_ale/blob/main/VINCULOS_final.ipynb\" target=\"_parent\"><img src=\"https://colab.research.google.com/assets/colab-badge.svg\" alt=\"Open In Colab\"/></a>"
      ]
    },
    {
      "cell_type": "code",
      "metadata": {
        "id": "hasjJAuEaLUf"
      },
      "source": [
        "!pip install wget \n",
        "!pip install py7zr\n",
        "!pip install dask\n",
        "!pip install dask[dataframe]\n",
        "#!pip install sys\n",
        "!pip install tqdm\n",
        "#!pip install os\n",
        "!pip install pandas\n",
        "!pip install numpy\n",
        "!pip install scipy\n",
        "!pip install matplotlib\n",
        "!pip install seaborn \n",
        "!pip install deflatebr"
      ],
      "execution_count": null,
      "outputs": []
    },
    {
      "cell_type": "code",
      "metadata": {
        "id": "dcmvSme5aZ1R"
      },
      "source": [
        "import wget\n",
        "import py7zr\n",
        "import dask \n",
        "import dask.dataframe as dd\n",
        "import sys\n",
        "from tqdm import tqdm\n",
        "import py7zr\n",
        "import os\n",
        "import pandas as pd\n",
        "import numpy as np\n",
        "from scipy import stats\n",
        "import statsmodels.api as sm\n",
        "import statsmodels.formula.api as smf\n",
        "from statsmodels.tools.tools import add_constant\n",
        "from statsmodels.graphics.factorplots import interaction_plot\n",
        "from statsmodels.stats.outliers_influence import variance_inflation_factor as vif\n",
        "import matplotlib.pyplot as plt\n",
        "import seaborn as sns\n",
        "from deflatebr import deflate"
      ],
      "execution_count": null,
      "outputs": []
    },
    {
      "cell_type": "code",
      "metadata": {
        "id": "EDyc7am9acZk"
      },
      "source": [
        "#STEP-1: Import libraries\n",
        "!pip install -U -q PyDrive\n",
        "from pydrive.auth import GoogleAuth\n",
        "from pydrive.drive import GoogleDrive\n",
        "from google.colab import auth\n",
        "from google.colab import files\n",
        "from oauth2client.client import GoogleCredentials\n",
        "import glob"
      ],
      "execution_count": 3,
      "outputs": []
    },
    {
      "cell_type": "code",
      "metadata": {
        "id": "Lgo2OHakadqV"
      },
      "source": [
        "#STEP-2: Autheticate E-Mail ID\n",
        "auth.authenticate_user()\n",
        "gauth = GoogleAuth()\n",
        "gauth.credentials = GoogleCredentials.get_application_default()\n",
        "drive = GoogleDrive(gauth)"
      ],
      "execution_count": 4,
      "outputs": []
    },
    {
      "cell_type": "code",
      "metadata": {
        "id": "6rgHd4AUafAj"
      },
      "source": [
        "downloaded = drive.CreateFile({'id':'18rO2us-ALGcqIQ0cMy3b7wiAu-9A5u56'})\n",
        "downloaded.GetContentFile('SP2005.csv') \n",
        "vinculos = pd.read_csv('SP2005.csv', sep=';', decimal=',',\n",
        "                         chunksize=500000, encoding='latin1',\n",
        "                         low_memory=False)"
      ],
      "execution_count": 5,
      "outputs": []
    },
    {
      "cell_type": "code",
      "metadata": {
        "id": "vjZMFZyva5qi",
        "outputId": "72bdd070-6286-4fd9-8120-79ba7625d630",
        "colab": {
          "base_uri": "https://localhost:8080/"
        }
      },
      "source": [
        "    COUNTER = 0    \n",
        "    DF = pd.DataFrame()\n",
        "    for frame in vinculos:\n",
        "        frame = frame[ ['CNAE 95 Classe','Vl Remun Média Nom','Tamanho Estabelecimento', 'Ind Simples'] ]                 \n",
        "                        # 'CNAE 95 Classe', 'Faixa Remun Média (SM)', 'Grau Instrução 2005-1985',\n",
        "                        # 'Vl Remun Média Nom','Tamanho Estabelecimento', 'Ind Simples'\n",
        "# Escolaridade após 2005                       \n",
        "# após 2005                        \n",
        "        DF = DF.append(frame)\n",
        "        COUNTER = COUNTER + 1\n",
        "        print('Chunk número {} processado'.format(COUNTER))"
      ],
      "execution_count": 11,
      "outputs": [
        {
          "output_type": "stream",
          "text": [
            "Chunk número 1 processado\n",
            "Chunk número 2 processado\n",
            "Chunk número 3 processado\n",
            "Chunk número 4 processado\n",
            "Chunk número 5 processado\n",
            "Chunk número 6 processado\n",
            "Chunk número 7 processado\n",
            "Chunk número 8 processado\n",
            "Chunk número 9 processado\n",
            "Chunk número 10 processado\n",
            "Chunk número 11 processado\n",
            "Chunk número 12 processado\n",
            "Chunk número 13 processado\n",
            "Chunk número 14 processado\n",
            "Chunk número 15 processado\n",
            "Chunk número 16 processado\n",
            "Chunk número 17 processado\n",
            "Chunk número 18 processado\n",
            "Chunk número 19 processado\n",
            "Chunk número 20 processado\n",
            "Chunk número 21 processado\n",
            "Chunk número 22 processado\n",
            "Chunk número 23 processado\n",
            "Chunk número 24 processado\n",
            "Chunk número 25 processado\n",
            "Chunk número 26 processado\n",
            "Chunk número 27 processado\n",
            "Chunk número 28 processado\n",
            "Chunk número 29 processado\n"
          ],
          "name": "stdout"
        }
      ]
    },
    {
      "cell_type": "code",
      "metadata": {
        "id": "MBZYtIAxJrN3"
      },
      "source": [
        "# Excluir aqueles com remuneração média = 0\n",
        "DF = DF[DF['Vl Remun Média Nom'] > 0]\n",
        "vinc_cont = DF.groupby(['CNAE 95 Classe','Tamanho Estabelecimento',\n",
        "                           'Ind Simples'])['CNAE 95 Classe'].count().reset_index(name=\"count\")"
      ],
      "execution_count": 13,
      "outputs": []
    },
    {
      "cell_type": "code",
      "metadata": {
        "id": "Jp3ef7MiPDew"
      },
      "source": [
        "exportar = pd.DataFrame(vinc_cont)\n",
        "exportar.to_excel(\"vinc_cont_2005.xlsx\")"
      ],
      "execution_count": 20,
      "outputs": []
    },
    {
      "cell_type": "code",
      "metadata": {
        "id": "dHi9TNZXQelU"
      },
      "source": [
        "vinc_rem = DF.groupby(['CNAE 95 Classe','Tamanho Estabelecimento',\n",
        "                           'Ind Simples'])['CNAE 95 Classe'].sum('Vl Remun Média Nom').reset_index(name=\"vl_rem\")                  \n"
      ],
      "execution_count": null,
      "outputs": []
    },
    {
      "cell_type": "code",
      "metadata": {
        "id": "yCqREiyUhZQK"
      },
      "source": [
        "exportar = pd.DataFrame(vinc_rem)\n",
        "exportar.to_excel(\"vinc_rem_2005.xlsx\")"
      ],
      "execution_count": null,
      "outputs": []
    }
  ]
}