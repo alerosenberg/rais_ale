{
  "nbformat": 4,
  "nbformat_minor": 0,
  "metadata": {
    "colab": {
      "name": "VINCULOS.ipynb",
      "provenance": [],
      "collapsed_sections": [],
      "authorship_tag": "ABX9TyOZHTWVLS8mNierp1ETZv9v",
      "include_colab_link": true
    },
    "kernelspec": {
      "name": "python3",
      "display_name": "Python 3"
    }
  },
  "cells": [
    {
      "cell_type": "markdown",
      "metadata": {
        "id": "view-in-github",
        "colab_type": "text"
      },
      "source": [
        "<a href=\"https://colab.research.google.com/github/alerosenberg/rais_ale/blob/main/VINCULOS.ipynb\" target=\"_parent\"><img src=\"https://colab.research.google.com/assets/colab-badge.svg\" alt=\"Open In Colab\"/></a>"
      ]
    },
    {
      "cell_type": "code",
      "metadata": {
        "id": "pxJwPyjR-KUZ",
        "outputId": "ec866b7d-637e-4f09-d561-2e435eeac1ee",
        "colab": {
          "base_uri": "https://localhost:8080/"
        }
      },
      "source": [
        "!pip install wget \n",
        "!pip install py7zr\n",
        "!pip install dask\n",
        "!pip install dask[dataframe]\n",
        "#!pip install sys\n",
        "!pip install tqdm\n",
        "#!pip install os\n",
        "!pip install pandas\n",
        "!pip install numpy\n",
        "!pip install scipy\n",
        "!pip install matplotlib\n",
        "!pip install seaborn \n",
        "!pip install deflatebr"
      ],
      "execution_count": 1,
      "outputs": [
        {
          "output_type": "stream",
          "text": [
            "Requirement already satisfied: wget in /usr/local/lib/python3.6/dist-packages (3.2)\n",
            "Requirement already satisfied: py7zr in /usr/local/lib/python3.6/dist-packages (0.10.1)\n",
            "Requirement already satisfied: importlib-metadata; python_version < \"3.8\" in /usr/local/lib/python3.6/dist-packages (from py7zr) (2.0.0)\n",
            "Requirement already satisfied: texttable in /usr/local/lib/python3.6/dist-packages (from py7zr) (1.6.3)\n",
            "Requirement already satisfied: pycryptodome in /usr/local/lib/python3.6/dist-packages (from py7zr) (3.9.9)\n",
            "Requirement already satisfied: zipp>=0.5 in /usr/local/lib/python3.6/dist-packages (from importlib-metadata; python_version < \"3.8\"->py7zr) (3.3.1)\n",
            "Requirement already satisfied: dask in /usr/local/lib/python3.6/dist-packages (2.12.0)\n",
            "Requirement already satisfied: dask[dataframe] in /usr/local/lib/python3.6/dist-packages (2.12.0)\n",
            "Requirement already satisfied: toolz>=0.7.3; extra == \"dataframe\" in /usr/local/lib/python3.6/dist-packages (from dask[dataframe]) (0.11.1)\n",
            "Requirement already satisfied: pandas>=0.23.0; extra == \"dataframe\" in /usr/local/lib/python3.6/dist-packages (from dask[dataframe]) (1.1.3)\n",
            "Requirement already satisfied: numpy>=1.13.0; extra == \"dataframe\" in /usr/local/lib/python3.6/dist-packages (from dask[dataframe]) (1.18.5)\n",
            "Requirement already satisfied: partd>=0.3.10; extra == \"dataframe\" in /usr/local/lib/python3.6/dist-packages (from dask[dataframe]) (1.1.0)\n",
            "Requirement already satisfied: fsspec>=0.6.0; extra == \"dataframe\" in /usr/local/lib/python3.6/dist-packages (from dask[dataframe]) (0.8.4)\n",
            "Requirement already satisfied: pytz>=2017.2 in /usr/local/lib/python3.6/dist-packages (from pandas>=0.23.0; extra == \"dataframe\"->dask[dataframe]) (2018.9)\n",
            "Requirement already satisfied: python-dateutil>=2.7.3 in /usr/local/lib/python3.6/dist-packages (from pandas>=0.23.0; extra == \"dataframe\"->dask[dataframe]) (2.8.1)\n",
            "Requirement already satisfied: locket in /usr/local/lib/python3.6/dist-packages (from partd>=0.3.10; extra == \"dataframe\"->dask[dataframe]) (0.2.0)\n",
            "Requirement already satisfied: six>=1.5 in /usr/local/lib/python3.6/dist-packages (from python-dateutil>=2.7.3->pandas>=0.23.0; extra == \"dataframe\"->dask[dataframe]) (1.15.0)\n",
            "Requirement already satisfied: tqdm in /usr/local/lib/python3.6/dist-packages (4.41.1)\n",
            "Requirement already satisfied: pandas in /usr/local/lib/python3.6/dist-packages (1.1.3)\n",
            "Requirement already satisfied: numpy>=1.15.4 in /usr/local/lib/python3.6/dist-packages (from pandas) (1.18.5)\n",
            "Requirement already satisfied: python-dateutil>=2.7.3 in /usr/local/lib/python3.6/dist-packages (from pandas) (2.8.1)\n",
            "Requirement already satisfied: pytz>=2017.2 in /usr/local/lib/python3.6/dist-packages (from pandas) (2018.9)\n",
            "Requirement already satisfied: six>=1.5 in /usr/local/lib/python3.6/dist-packages (from python-dateutil>=2.7.3->pandas) (1.15.0)\n",
            "Requirement already satisfied: numpy in /usr/local/lib/python3.6/dist-packages (1.18.5)\n",
            "Requirement already satisfied: scipy in /usr/local/lib/python3.6/dist-packages (1.4.1)\n",
            "Requirement already satisfied: numpy>=1.13.3 in /usr/local/lib/python3.6/dist-packages (from scipy) (1.18.5)\n",
            "Requirement already satisfied: matplotlib in /usr/local/lib/python3.6/dist-packages (3.2.2)\n",
            "Requirement already satisfied: pyparsing!=2.0.4,!=2.1.2,!=2.1.6,>=2.0.1 in /usr/local/lib/python3.6/dist-packages (from matplotlib) (2.4.7)\n",
            "Requirement already satisfied: cycler>=0.10 in /usr/local/lib/python3.6/dist-packages (from matplotlib) (0.10.0)\n",
            "Requirement already satisfied: kiwisolver>=1.0.1 in /usr/local/lib/python3.6/dist-packages (from matplotlib) (1.2.0)\n",
            "Requirement already satisfied: python-dateutil>=2.1 in /usr/local/lib/python3.6/dist-packages (from matplotlib) (2.8.1)\n",
            "Requirement already satisfied: numpy>=1.11 in /usr/local/lib/python3.6/dist-packages (from matplotlib) (1.18.5)\n",
            "Requirement already satisfied: six in /usr/local/lib/python3.6/dist-packages (from cycler>=0.10->matplotlib) (1.15.0)\n",
            "Requirement already satisfied: seaborn in /usr/local/lib/python3.6/dist-packages (0.11.0)\n",
            "Requirement already satisfied: pandas>=0.23 in /usr/local/lib/python3.6/dist-packages (from seaborn) (1.1.3)\n",
            "Requirement already satisfied: numpy>=1.15 in /usr/local/lib/python3.6/dist-packages (from seaborn) (1.18.5)\n",
            "Requirement already satisfied: scipy>=1.0 in /usr/local/lib/python3.6/dist-packages (from seaborn) (1.4.1)\n",
            "Requirement already satisfied: matplotlib>=2.2 in /usr/local/lib/python3.6/dist-packages (from seaborn) (3.2.2)\n",
            "Requirement already satisfied: python-dateutil>=2.7.3 in /usr/local/lib/python3.6/dist-packages (from pandas>=0.23->seaborn) (2.8.1)\n",
            "Requirement already satisfied: pytz>=2017.2 in /usr/local/lib/python3.6/dist-packages (from pandas>=0.23->seaborn) (2018.9)\n",
            "Requirement already satisfied: pyparsing!=2.0.4,!=2.1.2,!=2.1.6,>=2.0.1 in /usr/local/lib/python3.6/dist-packages (from matplotlib>=2.2->seaborn) (2.4.7)\n",
            "Requirement already satisfied: cycler>=0.10 in /usr/local/lib/python3.6/dist-packages (from matplotlib>=2.2->seaborn) (0.10.0)\n",
            "Requirement already satisfied: kiwisolver>=1.0.1 in /usr/local/lib/python3.6/dist-packages (from matplotlib>=2.2->seaborn) (1.2.0)\n",
            "Requirement already satisfied: six>=1.5 in /usr/local/lib/python3.6/dist-packages (from python-dateutil>=2.7.3->pandas>=0.23->seaborn) (1.15.0)\n",
            "Requirement already satisfied: deflatebr in /usr/local/lib/python3.6/dist-packages (0.2.1)\n",
            "Requirement already satisfied: numpy in /usr/local/lib/python3.6/dist-packages (from deflatebr) (1.18.5)\n",
            "Requirement already satisfied: pandas in /usr/local/lib/python3.6/dist-packages (from deflatebr) (1.1.3)\n",
            "Requirement already satisfied: tqdm in /usr/local/lib/python3.6/dist-packages (from deflatebr) (4.41.1)\n",
            "Requirement already satisfied: requests in /usr/local/lib/python3.6/dist-packages (from deflatebr) (2.23.0)\n",
            "Requirement already satisfied: datetime in /usr/local/lib/python3.6/dist-packages (from deflatebr) (4.3)\n",
            "Requirement already satisfied: python-dateutil>=2.7.3 in /usr/local/lib/python3.6/dist-packages (from pandas->deflatebr) (2.8.1)\n",
            "Requirement already satisfied: pytz>=2017.2 in /usr/local/lib/python3.6/dist-packages (from pandas->deflatebr) (2018.9)\n",
            "Requirement already satisfied: urllib3!=1.25.0,!=1.25.1,<1.26,>=1.21.1 in /usr/local/lib/python3.6/dist-packages (from requests->deflatebr) (1.24.3)\n",
            "Requirement already satisfied: certifi>=2017.4.17 in /usr/local/lib/python3.6/dist-packages (from requests->deflatebr) (2020.6.20)\n",
            "Requirement already satisfied: chardet<4,>=3.0.2 in /usr/local/lib/python3.6/dist-packages (from requests->deflatebr) (3.0.4)\n",
            "Requirement already satisfied: idna<3,>=2.5 in /usr/local/lib/python3.6/dist-packages (from requests->deflatebr) (2.10)\n",
            "Requirement already satisfied: zope.interface in /usr/local/lib/python3.6/dist-packages (from datetime->deflatebr) (5.1.2)\n",
            "Requirement already satisfied: six>=1.5 in /usr/local/lib/python3.6/dist-packages (from python-dateutil>=2.7.3->pandas->deflatebr) (1.15.0)\n",
            "Requirement already satisfied: setuptools in /usr/local/lib/python3.6/dist-packages (from zope.interface->datetime->deflatebr) (50.3.2)\n"
          ],
          "name": "stdout"
        }
      ]
    },
    {
      "cell_type": "code",
      "metadata": {
        "id": "VzLMjgki-To3",
        "outputId": "fc3b0f98-343c-4b81-8a2a-2c02dceb3836",
        "colab": {
          "base_uri": "https://localhost:8080/"
        }
      },
      "source": [
        "import wget\n",
        "import py7zr\n",
        "import dask \n",
        "import dask.dataframe as dd\n",
        "import sys\n",
        "from tqdm import tqdm\n",
        "import py7zr\n",
        "import os\n",
        "import pandas as pd\n",
        "import numpy as np\n",
        "from scipy import stats\n",
        "import statsmodels.api as sm\n",
        "import statsmodels.formula.api as smf\n",
        "from statsmodels.tools.tools import add_constant\n",
        "from statsmodels.graphics.factorplots import interaction_plot\n",
        "from statsmodels.stats.outliers_influence import variance_inflation_factor as vif\n",
        "import matplotlib.pyplot as plt\n",
        "import seaborn as sns\n",
        "from deflatebr import deflate"
      ],
      "execution_count": 2,
      "outputs": [
        {
          "output_type": "stream",
          "text": [
            "/usr/local/lib/python3.6/dist-packages/statsmodels/tools/_testing.py:19: FutureWarning: pandas.util.testing is deprecated. Use the functions in the public API at pandas.testing instead.\n",
            "  import pandas.util.testing as tm\n"
          ],
          "name": "stderr"
        }
      ]
    },
    {
      "cell_type": "code",
      "metadata": {
        "id": "GXYASxUi-XQc",
        "outputId": "9543555c-f6d0-48ea-b2b8-b1b1d87b7c82",
        "colab": {
          "base_uri": "https://localhost:8080/"
        }
      },
      "source": [
        "!pip install db-sqlite3\n",
        "import sqlite3\n",
        "conn = sqlite3.connect('example.db')"
      ],
      "execution_count": 3,
      "outputs": [
        {
          "output_type": "stream",
          "text": [
            "Requirement already satisfied: db-sqlite3 in /usr/local/lib/python3.6/dist-packages (0.0.1)\n",
            "Requirement already satisfied: db in /usr/local/lib/python3.6/dist-packages (from db-sqlite3) (0.1.1)\n",
            "Requirement already satisfied: antiorm in /usr/local/lib/python3.6/dist-packages (from db->db-sqlite3) (1.2.1)\n"
          ],
          "name": "stdout"
        }
      ]
    },
    {
      "cell_type": "code",
      "metadata": {
        "id": "BOi1JyOm-a-X"
      },
      "source": [
        "# Acessar o site abaixo:\n",
        "# ftp://ftp.mtps.gov.br/pdet/microdados/RAIS/\n",
        "# Escolher os anos e os estados desejados\n",
        "# Descompatar o arquivo no computador\n",
        "# Transferir o txt para o Google Drive\n",
        "# Cada arquivo (utilizo como referência a RAIS de cada ano para o estado de SP) ocupa cerca de 6GB"
      ],
      "execution_count": null,
      "outputs": []
    },
    {
      "cell_type": "code",
      "metadata": {
        "id": "Aj56vS0M-cyv"
      },
      "source": [
        "#STEP-1: Import libraries\n",
        "!pip install -U -q PyDrive\n",
        "from pydrive.auth import GoogleAuth\n",
        "from pydrive.drive import GoogleDrive\n",
        "from google.colab import auth\n",
        "from google.colab import files\n",
        "from oauth2client.client import GoogleCredentials\n",
        "import glob"
      ],
      "execution_count": 4,
      "outputs": []
    },
    {
      "cell_type": "code",
      "metadata": {
        "id": "mlsspkdY-enA"
      },
      "source": [
        "#STEP-2: Autheticate E-Mail ID\n",
        "auth.authenticate_user()\n",
        "gauth = GoogleAuth()\n",
        "gauth.credentials = GoogleCredentials.get_application_default()\n",
        "drive = GoogleDrive(gauth)"
      ],
      "execution_count": 5,
      "outputs": []
    },
    {
      "cell_type": "code",
      "metadata": {
        "id": "1yOb0ede-mpc"
      },
      "source": [
        "sp = ['350010', \t'350020', \t'350030', \t'350040', \t'350050', \t'350055', \t'350060', \t'350070', \t'350075', \t'350080', \t'350090', \t'350100', \t'350110', \t'350115', \t'350120', \t'350130', \t'350140', \t'350150', \t'350160', \t'350170', \t'350180', \t'350190', \t'350200', \t'350210', \t'350220', \t'350230', \t'350240', \t'350250', \t'350260', \t'350270', \t'350275', \t'350280', \t'350290', \t'350300', \t'350310', \t'350315', \t'350320', \t'350330', \t'350335', \t'350340', \t'350350', \t'350360', \t'350370', \t'350380', \t'350390', \t'350395', \t'350400', \t'350410', \t'350420', \t'350430', \n",
        "'350440', \t'350450', \t'350460', \t'350470', \t'350480', \t'350490', \t'350500', \t'350510', \t'350520', \t'350530', \t'350535', \t'350540', \t'350550', \t'350560', \t'350570', \t'350580', \t'350590', \t'350600', \t'350610', \t'350620', \t'350630', \t'350635', \t'350640', \t'350650', \t'350660', \t'350670', \t'350680', \t'350690', \t'350700', \t'350710', \t'350715', \t'350720', \t'350730', \t'350740', \t'350745', \t'350750', \t'350760', \t'350770', \t'350775', \t'350780', \t'350790', \t'350800', \t'350810', \t'350820', \t'350830', \t'350840', \t'350850', \t'350860', \t'350870', \t'350880', \n",
        "'350890', \t'350900', \t'350910', \t'350920', \t'350925', \t'350930', \t'350940', \t'350945', \t'350950', \t'350960', \t'350970', \t'350980', \t'350990', \t'350995', \t'351000', \t'351010', \t'351015', \t'351020', \t'351030', \t'351040', \t'351050', \t'351060', \t'351070', \t'351080', \t'351090', \t'351100', \t'351110', \t'351120', \t'351130', \t'351140', \t'351150', \t'351160', \t'351170', \t'351190', \t'351200', \t'351210', \t'351220', \t'351230', \t'351240', \t'351250', \t'351260', \t'351270', \t'351280', \t'351290', \t'351300', \t'351310', \t'351320', \t'351330', \t'351340', \t'351350', \n",
        "'351360', \t'351370', \t'351380', \t'351385', \t'351390', \t'351400', \t'351410', \t'351420', \t'351430', \t'351440', \t'351450', \t'351460', \t'351470', \t'351480', \t'351490', \t'351492', \t'351495', \t'351500', \t'351510', \t'351512', \t'351515', \t'351518', \t'351519', \t'351520', \t'351530', \t'351535', \t'351540', \t'351550', \t'351560', \t'351565', \t'351570', \t'351580', \t'351590', \t'351600', \t'351610', \t'351620', \t'351630', \t'351640', \t'351650', \t'351660', \t'351670', \t'351680', \t'351685', \t'351690', \t'351700', \t'351710', \t'351720', \t'351730', \t'351740', \t'351750', \n",
        "'351760', \t'351770', \t'351780', \t'351790', \t'351800', \t'351810', \t'351820', \t'351830', \t'351840', \t'351850', \t'351860', \t'351870', \t'351880', \t'351885', \t'351890', \t'351900', \t'351905', \t'351907', \t'351910', \t'351920', \t'351925', \t'351930', \t'351940', \t'351950', \t'351960', \t'351970', \t'351980', \t'351990', \t'352000', \t'352010', \t'352020', \t'352030', \t'352040', \t'352042', \t'352044', \t'352050', \t'352060', \t'352070', \t'352080', \t'352090', \t'352100', \t'352110', \t'352115', \t'352120', \t'352130', \t'352140', \t'352150', \t'352160', \t'352170', \t'352180', \n",
        "'352190', \t'352200', \t'352210', \t'352215', \t'352220', \t'352230', \t'352240', \t'352250', \t'352260', \t'352265', \t'352270', \t'352280', \t'352290', \t'352300', \t'352310', \t'352320', \t'352330', \t'352340', \t'352350', \t'352360', \t'352370', \t'352380', \t'352390', \t'352400', \t'352410', \t'352420', \t'352430', \t'352440', \t'352450', \t'352460', \t'352470', \t'352480', \t'352490', \t'352500', \t'352510', \t'352520', \t'352530', \t'352540', \t'352550', \t'352560', \t'352570', \t'352580', \t'352585', \t'352590', \t'352600', \t'352610', \t'352620', \t'352630', \t'352640', \t'352650', \n",
        "'352660', \t'352670', \t'352680', \t'352690', \t'352700', \t'352710', \t'352720', \t'352725', \t'352730', \t'352740', \t'352750', \t'352760', \t'352770', \t'352780', \t'352790', \t'352800', \t'352810', \t'352820', \t'352830', \t'352840', \t'352850', \t'352860', \t'352870', \t'352880', \t'352885', \t'352890', \t'352900', \t'352910', \t'352920', \t'352930', \t'352940', \t'352950', \t'352960', \t'352965', \t'352970', \t'352980', \t'352990', \t'353000', \t'353010', \t'353020', \t'353030', \t'353040', \t'353050', \t'353060', \t'353070', \t'353080', \t'353090', \t'353100', \t'353110', \t'353120', \n",
        "'353130', \t'353140', \t'353150', \t'353160', \t'353170', \t'353180', \t'353190', \t'353200', \t'353205', \t'353210', \t'353215', \t'353220', \t'353230', \t'353240', \t'353250', \t'353260', \t'353270', \t'353280', \t'353282', \t'353284', \t'353286', \t'353290', \t'353300', \t'353310', \t'353320', \t'353325', \t'353330', \t'353340', \t'353350', \t'353360', \t'353370', \t'353380', \t'353390', \t'353400', \t'353410', \t'353420', \t'353430', \t'353440', \t'353450', \t'353460', \t'353470', \t'353475', \t'353480', \t'353490', \t'353500', \t'353510', \t'353520', \t'353530', \t'353540', \t'353550', \n",
        "'353560', \t'353570', \t'353580', \t'353590', \t'353600', \t'353610', \t'353620', \t'353625', \t'353630', \t'353640', \t'353650', \t'353657', \t'353660', \t'353670', \t'353680', \t'353690', \t'353700', \t'353710', \t'353715', \t'353720', \t'353730', \t'353740', \t'353750', \t'353760', \t'353770', \t'353780', \t'353790', \t'353800', \t'353810', \t'353820', \t'353830', \t'353850', \t'353860', \t'353870', \t'353880', \t'353890', \t'353900', \t'353910', \t'353920', \t'353930', \t'353940', \t'353950', \t'353960', \t'353970', \t'353980', \t'353990', \t'354000', \t'354010', \t'354020', \t'354025', \n",
        "'354030', \t'354040', \t'354050', \t'354060', \t'354070', \t'354075', \t'354080', \t'354085', \t'354090', \t'354100', \t'354105', \t'354110', \t'354120', \t'354130', \t'354140', \t'354150', \t'354160', \t'354165', \t'354170', \t'354180', \t'354190', \t'354200', \t'354210', \t'354220', \t'354230', \t'354240', \t'354250', \t'354260', \t'354270', \t'354280', \t'354290', \t'354300', \t'354310', \t'354320', \t'354323', \t'354325', \t'354330', \t'354340', \t'354350', \t'354360', \t'354370', \t'354380', \t'354390', \t'354400', \t'354410', \t'354420', \t'354425', \t'354430', \t'354440', \t'354450', \n",
        "'354460', \t'354470', \t'354480', \t'354490', \t'354500', \t'354510', \t'354515', \t'354520', \t'354530', \t'354540', \t'354550', \t'354560', \t'354570', \t'354580', \t'354600', \t'354610', \t'354620', \t'354625', \t'354630', \t'354640', \t'354650', \t'354660', \t'354670', \t'354680', \t'354690', \t'354700', \t'354710', \t'354720', \t'354730', \t'354740', \t'354750', \t'354760', \t'354765', \t'354770', \t'354780', \t'354790', \t'354800', \t'354805', \t'354810', \t'354820', \t'354830', \t'354840', \t'354850', \t'354860', \t'354870', \t'354880', \t'354890', \t'354900', \t'354910', \t'354920', \n",
        "'354925', \t'354930', \t'354940', \t'354950', \t'354960', \t'354970', \t'354980', \t'354990', \t'354995', \t'355000', \t'355010', \t'355020', \t'355030', \t'355040', \t'355050', \t'355060', \t'355070', \t'355080', \t'355090', \t'355100', \t'355110', \t'355120', \t'355130', \t'355140', \t'355150', \t'355160', \t'355170', \t'355180', \t'355190', \t'355200', \t'355210', \t'355220', \t'355230', \t'355240', \t'355250', \t'355255', \t'355260', \t'355270', \t'355280', \t'355290', \t'355300', \t'355310', \t'355320', \t'355330', \t'355340', \t'355350', \t'355360', \t'355365', \t'355370', \t'355380', \n",
        "'355385', \t'355390', \t'355395', \t'355400', \t'355410', \t'355420', \t'355430', \t'355440', \t'355450', \t'355460', \t'355465', \t'355470', \t'355475', \t'355480', \t'355490', \t'355495', \t'355500', \t'355510', \t'355520', \t'355530', \t'355535', \t'355540', \t'355550', \t'355560', \t'355570', \t'355580', \t'355590', \t'355600', \t'355610', \t'355620', \t'355630', \t'355635', \t'355640', \t'355645', \t'355650', \t'355660', \t'355670', \t'355680', \t'355690', \t'355695', \t'355700', \t'355710', \t'355715', \t'355720', \t'355730', \t'359999']\n",
        "\n",
        "rj = ['330010', \t'330015', \t'330020', \t'330022', \t'330023', \t'330025', \t'330030', \t'330040', \t'330045', \t'330050', \t'330060', \t'330070', \t'330080', \t'330090', \t'330093', \t'330095', \t'330100', \t'330110', \t'330115', \t'330120', \n",
        "'330130', \t'330140', \t'330150', \t'330160', \t'330170', \t'330180', \t'330185', \t'330187', \t'330190', \t'330200', \t'330205', \t'330210', \t'330220', \t'330225', \t'330227', \t'330230', \t'330240', \t'330245', \t'330250', \t'330260', \n",
        "'330270', \t'330280', \t'330285', \t'330290', \t'330300', \t'330310', \t'330320', \t'330330', \t'330340', \t'330350', \t'330360', \t'330370', \t'330380', \t'330385', \t'330390', \t'330395', \t'330400', \t'330410', \t'330411', \t'330412', \n",
        "'330414', \t'330415', \t'330420', \t'330430', \t'330440', \t'330450', \t'330452', \t'330455', \t'330460', \t'330470', \t'330475', \t'330480', \t'330490', \t'330500', \t'330510', \t'330513', \t'330515', \t'330520', \t'330530', \t'330540', \n",
        "'330550', \t'330555', \t'330560', \t'330570', \t'330575', \t'330580', \t'330590', \t'330600', \t'330610', \t'330615', \t'330620', \t'330630', \t'339999']"
      ],
      "execution_count": 6,
      "outputs": []
    },
    {
      "cell_type": "code",
      "metadata": {
        "id": "L2jU8dhogSOT"
      },
      "source": [
        "# def rais_decoder(FILE,\n",
        "#                  CNAE_1 = [],\n",
        "#                  CNAE_2 = [],\n",
        "#                  CNAE_TYPE = 1,\n",
        "#                  CHUNKSIZE = 250000):\n",
        "       \n",
        "#     # Gravar estado e ano\n",
        "#     FILE_NAME = FILE.split(\"\\\\\")[-1]\n",
        "#     ESTADO = FILE_NAME.split('.')[0][0:2]\n",
        "#     ANO = int(FILE_NAME.split('.')[0][-4:])\n",
        "\n",
        "\n",
        "downloaded = drive.CreateFile({'id':'18rO2us-ALGcqIQ0cMy3b7wiAu-9A5u56'})\n",
        "downloaded.GetContentFile('SP2005.csv') \n",
        "base = pd.read_csv('SP2005.csv', sep=';', decimal=',',\n",
        "                         chunksize=250, encoding='latin1',\n",
        "                         low_memory=False)   \n"
      ],
      "execution_count": 7,
      "outputs": []
    },
    {
      "cell_type": "code",
      "metadata": {
        "id": "YnM_QTx13i_m"
      },
      "source": [
        " COUNTER = 0    \n",
        " DF = pd.DataFrame()\n",
        " for frame in base:\n",
        "        frame = frame[ ['CNAE 95 Classe', 'Vl Remun Média (SM)','Tamanho Estabelecimento', 'Ind Simples'] ]\n",
        "        DF = DF.append(frame)\n",
        "        COUNTER = COUNTER + 1"
      ],
      "execution_count": null,
      "outputs": []
    },
    {
      "cell_type": "code",
      "metadata": {
        "id": "bHyXeYpk03yw",
        "outputId": "147a1847-60b3-499a-ffea-0ea9527b338a",
        "colab": {
          "base_uri": "https://localhost:8080/"
        }
      },
      "source": [
        "print(base)\n",
        "df = pd.concat(base, ignore_index=True)"
      ],
      "execution_count": null,
      "outputs": [
        {
          "output_type": "stream",
          "text": [
            "<pandas.io.parsers.TextFileReader object at 0x7f7e9039b9e8>\n"
          ],
          "name": "stdout"
        }
      ]
    },
    {
      "cell_type": "code",
      "metadata": {
        "id": "maC_FMyMoQAb",
        "outputId": "c290d786-241b-49fb-9154-057aeccd9f7a",
        "colab": {
          "base_uri": "https://localhost:8080/",
          "height": 171
        }
      },
      "source": [
        "base[[\"IND SIMPLES\"]].head(10)\n",
        "\n",
        "e1 = pd.read_csv(working_dir+\"E1.txt\", sep=',', chunks=10000)\n",
        "\n",
        "for chunk in e1:\n",
        "    print(chunk)"
      ],
      "execution_count": 39,
      "outputs": [
        {
          "output_type": "error",
          "ename": "TypeError",
          "evalue": "ignored",
          "traceback": [
            "\u001b[0;31m---------------------------------------------------------------------------\u001b[0m",
            "\u001b[0;31mTypeError\u001b[0m                                 Traceback (most recent call last)",
            "\u001b[0;32m<ipython-input-39-ed53e15af6f7>\u001b[0m in \u001b[0;36m<module>\u001b[0;34m()\u001b[0m\n\u001b[0;32m----> 1\u001b[0;31m \u001b[0mbase\u001b[0m\u001b[0;34m[\u001b[0m\u001b[0;34m[\u001b[0m\u001b[0;34m\"IND SIMPLES\"\u001b[0m\u001b[0;34m]\u001b[0m\u001b[0;34m]\u001b[0m\u001b[0;34m.\u001b[0m\u001b[0mhead\u001b[0m\u001b[0;34m(\u001b[0m\u001b[0;36m10\u001b[0m\u001b[0;34m)\u001b[0m\u001b[0;34m\u001b[0m\u001b[0;34m\u001b[0m\u001b[0m\n\u001b[0m",
            "\u001b[0;31mTypeError\u001b[0m: 'TextFileReader' object is not subscriptable"
          ]
        }
      ]
    },
    {
      "cell_type": "code",
      "metadata": {
        "id": "zvY_xGCEjyiN"
      },
      "source": [
        "def rais_decoder(FILE,\n",
        "                 CNAE_1 = [],\n",
        "                 CNAE_2 = [],\n",
        "                 CNAE_TYPE = 1,\n",
        "                 CHUNKSIZE = 250000):\n",
        "       \n",
        "    # Gravar estado e ano\n",
        "    FILE_NAME = FILE.split(\"\\\\\")[-1]\n",
        "    ESTADO = FILE_NAME.split('.')[0][0:2]\n",
        "    ANO = int(FILE_NAME.split('.')[0][-4:])\n",
        "\n",
        "          # Manter só variáveis de interesse no DataFrame    \n",
        "    COUNTER = 0    \n",
        "    DF = pd.DataFrame()\n",
        "    for frame in base:\n",
        "        # frame = frame[ ['CNAE 95 Classe', 'Vl Remun Média (SM)'] ]\n",
        "        frame = frame[ ['CNAE 95 Classe', 'Vl Remun Média (SM)', 'Tamanho Estabelecimento', 'Ind Simples'] ]\n",
        "        DF = DF.append(frame)\n",
        "        COUNTER = COUNTER + 1\n",
        "\n",
        "    # # Exceção para anos em que CNAE vem como string\n",
        "    # try:\n",
        "    #     DF['CNAE 95 Classe'] = [item.replace('-', '') for item in DF['CNAE 95 Classe']]\n",
        "    #     DF['CNAE 95 Classe'] = DF['CNAE 95 Classe'].astype(int)\n",
        "    # except:\n",
        "    #     pass\n",
        "\n",
        "    # # Selecionar CNAEs de interesse\n",
        "    # if CNAE_TYPE == 1:\n",
        "    #     DF = DF[ DF['CNAE 95 Classe'].isin(CNAE_1) ]\n",
        "    # elif CNAE_TYPE == 2:\n",
        "    #     DF = DF[ DF['CNAE 2.0 Classe'].isin(CNAE_2) ]\n",
        "    # else:\n",
        "    #     print('Selecionar CNAE 1.0 ou 2.0 e reiniciar rotina!')\n",
        "    #     raise KeyboardInterrupt\n",
        "\n",
        "    # # Excluir aqueles com remuneração média = 0\n",
        "    # DF = DF[DF['Vl Remun Média (SM)'] > 0]\n",
        "\n",
        "    # # Criar DataFrame de output\n",
        "    # RESULT = pd.DataFrame.from_dict( data={ \n",
        "    #         'remuneracao_media': DF['Vl Remun Média (SM)'].mean(),\n",
        "    #         'numero_empregados': DF['Vl Remun Média (SM)'].count(),\n",
        "    #         'estado': ESTADO,\n",
        "    #         'ano': ANO,\n",
        "    #         }, orient='index').T\n",
        "\n",
        "    # return RESULT\n",
        "            \n"
      ],
      "execution_count": 33,
      "outputs": []
    },
    {
      "cell_type": "code",
      "metadata": {
        "id": "QxbwXhtLnZV-"
      },
      "source": [
        ""
      ],
      "execution_count": null,
      "outputs": []
    },
    {
      "cell_type": "code",
      "metadata": {
        "id": "ZbLg-uVWe906"
      },
      "source": [
        "def rais_decoder(FILE,\n",
        "                 CNAE_1 = [],\n",
        "                 CNAE_2 = [],\n",
        "                 CNAE_TYPE = 1,\n",
        "                 CHUNKSIZE = 250000):\n",
        "       \n",
        "    # Gravar estado e ano\n",
        "    FILE_NAME = FILE.split(\"\\\\\")[-1]\n",
        "    ESTADO = FILE_NAME.split('.')[0][0:2]\n",
        "    ANO = int(FILE_NAME.split('.')[0][-4:])\n",
        "\n",
        "    print('Processando: {}... \\n'.format(FILE_NAME))\n",
        "\n",
        "    # Importar arquivo, usando chunksize para evitar consumir muita memória\n",
        "    READER = pd.read_csv(FILE, sep=';', decimal=',',\n",
        "                         chunksize=CHUNKSIZE, encoding='latin1',\n",
        "                         low_memory=False)\n",
        "    \n",
        "        # Manter só variáveis de interesse no DataFrame    \n",
        "    COUNTER = 0    \n",
        "    DF = pd.DataFrame()\n",
        "    for frame in READER:\n",
        "        frame = frame[ ['CNAE 95 Classe', 'Vl Remun Média (SM)'] ]\n",
        "        # frame = frame[ ['CNAE 95 Classe', 'Vl Remun Média (SM)', 'TAMESTAB', 'IND SIMPLES'] ]\n",
        "        DF = DF.append(frame)\n",
        "        COUNTER = COUNTER + 1\n",
        "        print('Chunk número {} processado'.format(COUNTER))\n",
        "\n",
        "    print('Dados importados...')\n",
        "    \n",
        "    # Exceção para anos em que CNAE vem como string\n",
        "    try:\n",
        "        DF['CNAE 95 Classe'] = [item.replace('-', '') for item in DF['CNAE 95 Classe']]\n",
        "        DF['CNAE 95 Classe'] = DF['CNAE 95 Classe'].astype(int)\n",
        "    except:\n",
        "        pass\n",
        "    \n",
        "    # Selecionar CNAEs de interesse\n",
        "    if CNAE_TYPE == 1:\n",
        "        DF = DF[ DF['CNAE 95 Classe'].isin(CNAE_1) ]\n",
        "    elif CNAE_TYPE == 2:\n",
        "        DF = DF[ DF['CNAE 2.0 Classe'].isin(CNAE_2) ]\n",
        "    else:\n",
        "        print('Selecionar CNAE 1.0 ou 2.0 e reiniciar rotina!')\n",
        "        raise KeyboardInterrupt\n",
        "\n",
        "    # Excluir aqueles com remuneração média = 0\n",
        "    DF = DF[DF['Vl Remun Média (SM)'] > 0]\n",
        "\n",
        "    print('Transformações realizadas...')\n",
        "    \n",
        "    # Criar DataFrame de output\n",
        "    RESULT = pd.DataFrame.from_dict( data={ \n",
        "            'remuneracao_media': DF['Vl Remun Média (SM)'].mean(),\n",
        "            'numero_empregados': DF['Vl Remun Média (SM)'].count(),\n",
        "            'estado': ESTADO,\n",
        "            'ano': ANO,\n",
        "            }, orient='index').T\n",
        "\n",
        "    print('Finalizado: {}... \\n'.format(FILE_NAME))\n",
        "    \n",
        "    return RESULT\n",
        "\n",
        "\"\"\"\n",
        "################# Exemplo \n",
        "    \n",
        "# Buscar todos os arquivos de determinado diretório\n",
        "# e consolidar as seguintes CNAEs\n",
        "       \n",
        "        CNAE 1\n",
        "        74.60-8\t*\tAtividades de investigação, vigilância e segurança\n",
        "        74.60-8\t*\tAtividades de investigação, vigilância e segurança\n",
        "        74.60-8\t*\tAtividades de investigação, vigilância e segurança\n",
        "        74.60-8\t*\tAtividades de investigação, vigilância e segurança\n",
        "\"\"\"    \n",
        "\n",
        "# FOLDER = \"C:\\\\Users\\\\CarlosABG\\\\Desktop\\\\rais_sp\\\\\"    \n",
        "\n",
        "# import os\n",
        "\n",
        "# FILES = []\n",
        "# for root, dirs, files in os.walk(FOLDER, topdown=False):\n",
        "#     for name in files:\n",
        "#           FILES.append(os.path.join(root, name))\n",
        "\n",
        "# # Criar um dataframe com os resultados \n",
        "# df = pd.DataFrame()\n",
        "# for file in FILES[0:1]:\n",
        "#     result = rais_decoder(file, CNAE_1 = [74608])\n",
        "#     print(result)\n",
        "#     if len(result) > 0:\n",
        "#         df = df.append(result)\n",
        "#     else:\n",
        "#         pass"
      ],
      "execution_count": null,
      "outputs": []
    },
    {
      "cell_type": "code",
      "metadata": {
        "id": "nQiihNS6BZwX"
      },
      "source": [
        "downloaded = drive.CreateFile({'id':'18rO2us-ALGcqIQ0cMy3b7wiAu-9A5u56'})\n",
        "downloaded.GetContentFile('SP2005.csv') \n",
        "base = pd.read_csv('SP2005.csv', sep=';', encoding=\"latin1\", low_memory=False,\n",
        "                        dtype={ 'Bairros SP': 'object',\n",
        "                                'Distritos SP': 'object',\n",
        "                                'Municipio': 'object',\n",
        "                                'Natureza Jurídica': 'object',\n",
        "                                'CNAE 2.0 Subclasse': 'object',\n",
        "                                'CNAE 2.0 Classe': 'object',\n",
        "                                'CNAE 95 Classe': 'object'})     \n",
        "base = base[base.Município.isin(sp)]"
      ],
      "execution_count": null,
      "outputs": []
    },
    {
      "cell_type": "code",
      "metadata": {
        "id": "6vUCSkKkWEMW"
      },
      "source": [
        "from google.cloud import bigquery\n",
        "import google.auth"
      ],
      "execution_count": 9,
      "outputs": []
    }
  ]
}