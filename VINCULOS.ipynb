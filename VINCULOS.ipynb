{
  "nbformat": 4,
  "nbformat_minor": 0,
  "metadata": {
    "colab": {
      "name": "VINCULOS.ipynb",
      "provenance": [],
      "collapsed_sections": [],
      "authorship_tag": "ABX9TyPWSQKEyTxpCJMoH7XU9q2H",
      "include_colab_link": true
    },
    "kernelspec": {
      "name": "python3",
      "display_name": "Python 3"
    }
  },
  "cells": [
    {
      "cell_type": "markdown",
      "metadata": {
        "id": "view-in-github",
        "colab_type": "text"
      },
      "source": [
        "<a href=\"https://colab.research.google.com/github/alerosenberg/rais_ale/blob/main/VINCULOS.ipynb\" target=\"_parent\"><img src=\"https://colab.research.google.com/assets/colab-badge.svg\" alt=\"Open In Colab\"/></a>"
      ]
    },
    {
      "cell_type": "code",
      "metadata": {
        "id": "hasjJAuEaLUf"
      },
      "source": [
        "!pip install wget \n",
        "!pip install py7zr\n",
        "!pip install dask\n",
        "!pip install dask[dataframe]\n",
        "#!pip install sys\n",
        "!pip install tqdm\n",
        "#!pip install os\n",
        "!pip install pandas\n",
        "!pip install numpy\n",
        "!pip install scipy\n",
        "!pip install matplotlib\n",
        "!pip install seaborn \n",
        "!pip install deflatebr"
      ],
      "execution_count": null,
      "outputs": []
    },
    {
      "cell_type": "code",
      "metadata": {
        "id": "dcmvSme5aZ1R",
        "outputId": "87db3b2f-0420-4a1d-99a0-84dd1550a8f0",
        "colab": {
          "base_uri": "https://localhost:8080/"
        }
      },
      "source": [
        "import wget\n",
        "import py7zr\n",
        "import dask \n",
        "import dask.dataframe as dd\n",
        "import sys\n",
        "from tqdm import tqdm\n",
        "import py7zr\n",
        "import os\n",
        "import pandas as pd\n",
        "import numpy as np\n",
        "from scipy import stats\n",
        "import statsmodels.api as sm\n",
        "import statsmodels.formula.api as smf\n",
        "from statsmodels.tools.tools import add_constant\n",
        "from statsmodels.graphics.factorplots import interaction_plot\n",
        "from statsmodels.stats.outliers_influence import variance_inflation_factor as vif\n",
        "import matplotlib.pyplot as plt\n",
        "import seaborn as sns\n",
        "from deflatebr import deflate"
      ],
      "execution_count": 2,
      "outputs": [
        {
          "output_type": "stream",
          "text": [
            "/usr/local/lib/python3.6/dist-packages/statsmodels/tools/_testing.py:19: FutureWarning: pandas.util.testing is deprecated. Use the functions in the public API at pandas.testing instead.\n",
            "  import pandas.util.testing as tm\n"
          ],
          "name": "stderr"
        }
      ]
    },
    {
      "cell_type": "code",
      "metadata": {
        "id": "EDyc7am9acZk"
      },
      "source": [
        "#STEP-1: Import libraries\n",
        "!pip install -U -q PyDrive\n",
        "from pydrive.auth import GoogleAuth\n",
        "from pydrive.drive import GoogleDrive\n",
        "from google.colab import auth\n",
        "from google.colab import files\n",
        "from oauth2client.client import GoogleCredentials\n",
        "import glob"
      ],
      "execution_count": 3,
      "outputs": []
    },
    {
      "cell_type": "code",
      "metadata": {
        "id": "Lgo2OHakadqV"
      },
      "source": [
        "#STEP-2: Autheticate E-Mail ID\n",
        "auth.authenticate_user()\n",
        "gauth = GoogleAuth()\n",
        "gauth.credentials = GoogleCredentials.get_application_default()\n",
        "drive = GoogleDrive(gauth)"
      ],
      "execution_count": 4,
      "outputs": []
    },
    {
      "cell_type": "code",
      "metadata": {
        "id": "6rgHd4AUafAj"
      },
      "source": [
        "downloaded = drive.CreateFile({'id':'18rO2us-ALGcqIQ0cMy3b7wiAu-9A5u56'})\n",
        "downloaded.GetContentFile('SP2005.csv') \n",
        "vinculos = pd.read_csv('SP2005.csv', sep=';', decimal=',',\n",
        "                         chunksize=500000, encoding='latin1',\n",
        "                         low_memory=False)   "
      ],
      "execution_count": 5,
      "outputs": []
    },
    {
      "cell_type": "code",
      "metadata": {
        "id": "vjZMFZyva5qi",
        "outputId": "8c3f8fbc-2f38-4d50-ae34-f76d3706cfcc",
        "colab": {
          "base_uri": "https://localhost:8080/"
        }
      },
      "source": [
        " COUNTER = 0    \n",
        " df = pd.DataFrame()\n",
        " for frame in vinculos:\n",
        "        frame = frame[ ['CNAE 95 Classe', 'Faixa Remun Média (SM)', 'Grau Instrução 2005-1985',\n",
        "                        'Vl Remun Média (SM)', 'Vl Remun Média Nom',\n",
        "                        'Tamanho Estabelecimento', 'Ind Simples'] ]\n",
        "# Escolaridade após 2005                       \n",
        "# após 2005                        \n",
        "        df = df.append(frame)\n",
        "        COUNTER = COUNTER + 1\n",
        "        print('Chunk número {} processado'.format(COUNTER))"
      ],
      "execution_count": 7,
      "outputs": [
        {
          "output_type": "stream",
          "text": [
            "Chunk número 1 processado\n",
            "Chunk número 2 processado\n",
            "Chunk número 3 processado\n",
            "Chunk número 4 processado\n",
            "Chunk número 5 processado\n",
            "Chunk número 6 processado\n",
            "Chunk número 7 processado\n",
            "Chunk número 8 processado\n",
            "Chunk número 9 processado\n",
            "Chunk número 10 processado\n",
            "Chunk número 11 processado\n",
            "Chunk número 12 processado\n",
            "Chunk número 13 processado\n",
            "Chunk número 14 processado\n",
            "Chunk número 15 processado\n",
            "Chunk número 16 processado\n",
            "Chunk número 17 processado\n",
            "Chunk número 18 processado\n",
            "Chunk número 19 processado\n",
            "Chunk número 20 processado\n",
            "Chunk número 21 processado\n",
            "Chunk número 22 processado\n",
            "Chunk número 23 processado\n",
            "Chunk número 24 processado\n",
            "Chunk número 25 processado\n",
            "Chunk número 26 processado\n",
            "Chunk número 27 processado\n",
            "Chunk número 28 processado\n",
            "Chunk número 29 processado\n"
          ],
          "name": "stdout"
        }
      ]
    },
    {
      "cell_type": "code",
      "metadata": {
        "id": "QXqmuORxbVbS",
        "outputId": "c1da62e7-0984-4789-dbf7-89c04fbef3f0",
        "colab": {
          "base_uri": "https://localhost:8080/"
        }
      },
      "source": [
        "df.groupby('Ind Simples').size()"
      ],
      "execution_count": 8,
      "outputs": [
        {
          "output_type": "execute_result",
          "data": {
            "text/plain": [
              "Ind Simples\n",
              "0    11228401\n",
              "1     3025344\n",
              "dtype: int64"
            ]
          },
          "metadata": {
            "tags": []
          },
          "execution_count": 8
        }
      ]
    },
    {
      "cell_type": "code",
      "metadata": {
        "id": "BWftR3CybXz-",
        "outputId": "d61a6074-042f-4fd5-a2f4-a1fb97054fcc",
        "colab": {
          "base_uri": "https://localhost:8080/",
          "height": 437
        }
      },
      "source": [
        "vinc_rem_med_sm = df.groupby(['CNAE 95 Classe', 'Faixa Remun Média (SM)', 'Grau Instrução 2005-1985',\n",
        "                        'Tamanho Estabelecimento', 'Ind Simples']).sum('Vl Remun Média (SM)')\n",
        "vinc_rem_med_sm"
      ],
      "execution_count": 10,
      "outputs": [
        {
          "output_type": "execute_result",
          "data": {
            "text/html": [
              "<div>\n",
              "<style scoped>\n",
              "    .dataframe tbody tr th:only-of-type {\n",
              "        vertical-align: middle;\n",
              "    }\n",
              "\n",
              "    .dataframe tbody tr th {\n",
              "        vertical-align: top;\n",
              "    }\n",
              "\n",
              "    .dataframe thead th {\n",
              "        text-align: right;\n",
              "    }\n",
              "</style>\n",
              "<table border=\"1\" class=\"dataframe\">\n",
              "  <thead>\n",
              "    <tr style=\"text-align: right;\">\n",
              "      <th></th>\n",
              "      <th></th>\n",
              "      <th></th>\n",
              "      <th></th>\n",
              "      <th></th>\n",
              "      <th>Vl Remun Média (SM)</th>\n",
              "      <th>Vl Remun Média Nom</th>\n",
              "    </tr>\n",
              "    <tr>\n",
              "      <th>CNAE 95 Classe</th>\n",
              "      <th>Faixa Remun Média (SM)</th>\n",
              "      <th>Grau Instrução 2005-1985</th>\n",
              "      <th>Tamanho Estabelecimento</th>\n",
              "      <th>Ind Simples</th>\n",
              "      <th></th>\n",
              "      <th></th>\n",
              "    </tr>\n",
              "  </thead>\n",
              "  <tbody>\n",
              "    <tr>\n",
              "      <th rowspan=\"5\" valign=\"top\">1112</th>\n",
              "      <th rowspan=\"5\" valign=\"top\">00</th>\n",
              "      <th rowspan=\"5\" valign=\"top\">2</th>\n",
              "      <th>2</th>\n",
              "      <th>0</th>\n",
              "      <td>0.36</td>\n",
              "      <td>105.58</td>\n",
              "    </tr>\n",
              "    <tr>\n",
              "      <th>3</th>\n",
              "      <th>0</th>\n",
              "      <td>0.31</td>\n",
              "      <td>82.90</td>\n",
              "    </tr>\n",
              "    <tr>\n",
              "      <th>4</th>\n",
              "      <th>0</th>\n",
              "      <td>0.47</td>\n",
              "      <td>137.50</td>\n",
              "    </tr>\n",
              "    <tr>\n",
              "      <th>6</th>\n",
              "      <th>0</th>\n",
              "      <td>0.41</td>\n",
              "      <td>108.95</td>\n",
              "    </tr>\n",
              "    <tr>\n",
              "      <th>7</th>\n",
              "      <th>0</th>\n",
              "      <td>0.42</td>\n",
              "      <td>109.23</td>\n",
              "    </tr>\n",
              "    <tr>\n",
              "      <th>...</th>\n",
              "      <th>...</th>\n",
              "      <th>...</th>\n",
              "      <th>...</th>\n",
              "      <th>...</th>\n",
              "      <td>...</td>\n",
              "      <td>...</td>\n",
              "    </tr>\n",
              "    <tr>\n",
              "      <th rowspan=\"5\" valign=\"top\">99007</th>\n",
              "      <th rowspan=\"4\" valign=\"top\">11</th>\n",
              "      <th rowspan=\"4\" valign=\"top\">9</th>\n",
              "      <th>2</th>\n",
              "      <th>0</th>\n",
              "      <td>68.74</td>\n",
              "      <td>19569.59</td>\n",
              "    </tr>\n",
              "    <tr>\n",
              "      <th>3</th>\n",
              "      <th>0</th>\n",
              "      <td>293.98</td>\n",
              "      <td>84789.16</td>\n",
              "    </tr>\n",
              "    <tr>\n",
              "      <th>4</th>\n",
              "      <th>0</th>\n",
              "      <td>488.95</td>\n",
              "      <td>139476.22</td>\n",
              "    </tr>\n",
              "    <tr>\n",
              "      <th>5</th>\n",
              "      <th>0</th>\n",
              "      <td>817.16</td>\n",
              "      <td>233841.82</td>\n",
              "    </tr>\n",
              "    <tr>\n",
              "      <th>{ñ</th>\n",
              "      <th>9</th>\n",
              "      <th>2</th>\n",
              "      <th>0</th>\n",
              "      <td>0.00</td>\n",
              "      <td>0.00</td>\n",
              "    </tr>\n",
              "  </tbody>\n",
              "</table>\n",
              "<p>321656 rows × 2 columns</p>\n",
              "</div>"
            ],
            "text/plain": [
              "                                                                                                    Vl Remun Média (SM)  Vl Remun Média Nom\n",
              "CNAE 95 Classe Faixa Remun Média (SM) Grau Instrução 2005-1985 Tamanho Estabelecimento Ind Simples                                         \n",
              "1112           00                     2                        2                       0                           0.36              105.58\n",
              "                                                               3                       0                           0.31               82.90\n",
              "                                                               4                       0                           0.47              137.50\n",
              "                                                               6                       0                           0.41              108.95\n",
              "                                                               7                       0                           0.42              109.23\n",
              "...                                                                                                                 ...                 ...\n",
              "99007          11                     9                        2                       0                          68.74            19569.59\n",
              "                                                               3                       0                         293.98            84789.16\n",
              "                                                               4                       0                         488.95           139476.22\n",
              "                                                               5                       0                         817.16           233841.82\n",
              "               {ñ                     9                        2                       0                           0.00                0.00\n",
              "\n",
              "[321656 rows x 2 columns]"
            ]
          },
          "metadata": {
            "tags": []
          },
          "execution_count": 10
        }
      ]
    },
    {
      "cell_type": "code",
      "metadata": {
        "id": "jdFgtSBQb7NJ",
        "outputId": "b4fdee6f-3ba4-4aa5-f332-8d85b0f3d71e",
        "colab": {
          "base_uri": "https://localhost:8080/",
          "height": 437
        }
      },
      "source": [
        "vinc_rem_med = df.groupby(['CNAE 95 Classe', 'Faixa Remun Média (SM)', 'Grau Instrução 2005-1985',\n",
        "                        'Tamanho Estabelecimento', 'Ind Simples']).sum('Vl Remun Média Nom')     \n",
        "vinc_rem_med                        "
      ],
      "execution_count": 12,
      "outputs": [
        {
          "output_type": "execute_result",
          "data": {
            "text/html": [
              "<div>\n",
              "<style scoped>\n",
              "    .dataframe tbody tr th:only-of-type {\n",
              "        vertical-align: middle;\n",
              "    }\n",
              "\n",
              "    .dataframe tbody tr th {\n",
              "        vertical-align: top;\n",
              "    }\n",
              "\n",
              "    .dataframe thead th {\n",
              "        text-align: right;\n",
              "    }\n",
              "</style>\n",
              "<table border=\"1\" class=\"dataframe\">\n",
              "  <thead>\n",
              "    <tr style=\"text-align: right;\">\n",
              "      <th></th>\n",
              "      <th></th>\n",
              "      <th></th>\n",
              "      <th></th>\n",
              "      <th></th>\n",
              "      <th>Vl Remun Média (SM)</th>\n",
              "      <th>Vl Remun Média Nom</th>\n",
              "    </tr>\n",
              "    <tr>\n",
              "      <th>CNAE 95 Classe</th>\n",
              "      <th>Faixa Remun Média (SM)</th>\n",
              "      <th>Grau Instrução 2005-1985</th>\n",
              "      <th>Tamanho Estabelecimento</th>\n",
              "      <th>Ind Simples</th>\n",
              "      <th></th>\n",
              "      <th></th>\n",
              "    </tr>\n",
              "  </thead>\n",
              "  <tbody>\n",
              "    <tr>\n",
              "      <th rowspan=\"5\" valign=\"top\">1112</th>\n",
              "      <th rowspan=\"5\" valign=\"top\">00</th>\n",
              "      <th rowspan=\"5\" valign=\"top\">2</th>\n",
              "      <th>2</th>\n",
              "      <th>0</th>\n",
              "      <td>0.36</td>\n",
              "      <td>105.58</td>\n",
              "    </tr>\n",
              "    <tr>\n",
              "      <th>3</th>\n",
              "      <th>0</th>\n",
              "      <td>0.31</td>\n",
              "      <td>82.90</td>\n",
              "    </tr>\n",
              "    <tr>\n",
              "      <th>4</th>\n",
              "      <th>0</th>\n",
              "      <td>0.47</td>\n",
              "      <td>137.50</td>\n",
              "    </tr>\n",
              "    <tr>\n",
              "      <th>6</th>\n",
              "      <th>0</th>\n",
              "      <td>0.41</td>\n",
              "      <td>108.95</td>\n",
              "    </tr>\n",
              "    <tr>\n",
              "      <th>7</th>\n",
              "      <th>0</th>\n",
              "      <td>0.42</td>\n",
              "      <td>109.23</td>\n",
              "    </tr>\n",
              "    <tr>\n",
              "      <th>...</th>\n",
              "      <th>...</th>\n",
              "      <th>...</th>\n",
              "      <th>...</th>\n",
              "      <th>...</th>\n",
              "      <td>...</td>\n",
              "      <td>...</td>\n",
              "    </tr>\n",
              "    <tr>\n",
              "      <th rowspan=\"5\" valign=\"top\">99007</th>\n",
              "      <th rowspan=\"4\" valign=\"top\">11</th>\n",
              "      <th rowspan=\"4\" valign=\"top\">9</th>\n",
              "      <th>2</th>\n",
              "      <th>0</th>\n",
              "      <td>68.74</td>\n",
              "      <td>19569.59</td>\n",
              "    </tr>\n",
              "    <tr>\n",
              "      <th>3</th>\n",
              "      <th>0</th>\n",
              "      <td>293.98</td>\n",
              "      <td>84789.16</td>\n",
              "    </tr>\n",
              "    <tr>\n",
              "      <th>4</th>\n",
              "      <th>0</th>\n",
              "      <td>488.95</td>\n",
              "      <td>139476.22</td>\n",
              "    </tr>\n",
              "    <tr>\n",
              "      <th>5</th>\n",
              "      <th>0</th>\n",
              "      <td>817.16</td>\n",
              "      <td>233841.82</td>\n",
              "    </tr>\n",
              "    <tr>\n",
              "      <th>{ñ</th>\n",
              "      <th>9</th>\n",
              "      <th>2</th>\n",
              "      <th>0</th>\n",
              "      <td>0.00</td>\n",
              "      <td>0.00</td>\n",
              "    </tr>\n",
              "  </tbody>\n",
              "</table>\n",
              "<p>321656 rows × 2 columns</p>\n",
              "</div>"
            ],
            "text/plain": [
              "                                                                                                    Vl Remun Média (SM)  Vl Remun Média Nom\n",
              "CNAE 95 Classe Faixa Remun Média (SM) Grau Instrução 2005-1985 Tamanho Estabelecimento Ind Simples                                         \n",
              "1112           00                     2                        2                       0                           0.36              105.58\n",
              "                                                               3                       0                           0.31               82.90\n",
              "                                                               4                       0                           0.47              137.50\n",
              "                                                               6                       0                           0.41              108.95\n",
              "                                                               7                       0                           0.42              109.23\n",
              "...                                                                                                                 ...                 ...\n",
              "99007          11                     9                        2                       0                          68.74            19569.59\n",
              "                                                               3                       0                         293.98            84789.16\n",
              "                                                               4                       0                         488.95           139476.22\n",
              "                                                               5                       0                         817.16           233841.82\n",
              "               {ñ                     9                        2                       0                           0.00                0.00\n",
              "\n",
              "[321656 rows x 2 columns]"
            ]
          },
          "metadata": {
            "tags": []
          },
          "execution_count": 12
        }
      ]
    },
    {
      "cell_type": "code",
      "metadata": {
        "id": "6tuu0HgHbZVr",
        "outputId": "e9ca9864-47f7-4ddb-9739-aeff2cda2a7b",
        "colab": {
          "base_uri": "https://localhost:8080/",
          "height": 437
        }
      },
      "source": [
        "vinc_cont = df.groupby(['CNAE 95 Classe', 'Faixa Remun Média (SM)', 'Grau Instrução 2005-1985',\n",
        "                        'Tamanho Estabelecimento', 'Ind Simples']).count()\n",
        "vinc_cont                        "
      ],
      "execution_count": 13,
      "outputs": [
        {
          "output_type": "execute_result",
          "data": {
            "text/html": [
              "<div>\n",
              "<style scoped>\n",
              "    .dataframe tbody tr th:only-of-type {\n",
              "        vertical-align: middle;\n",
              "    }\n",
              "\n",
              "    .dataframe tbody tr th {\n",
              "        vertical-align: top;\n",
              "    }\n",
              "\n",
              "    .dataframe thead th {\n",
              "        text-align: right;\n",
              "    }\n",
              "</style>\n",
              "<table border=\"1\" class=\"dataframe\">\n",
              "  <thead>\n",
              "    <tr style=\"text-align: right;\">\n",
              "      <th></th>\n",
              "      <th></th>\n",
              "      <th></th>\n",
              "      <th></th>\n",
              "      <th></th>\n",
              "      <th>Vl Remun Média (SM)</th>\n",
              "      <th>Vl Remun Média Nom</th>\n",
              "    </tr>\n",
              "    <tr>\n",
              "      <th>CNAE 95 Classe</th>\n",
              "      <th>Faixa Remun Média (SM)</th>\n",
              "      <th>Grau Instrução 2005-1985</th>\n",
              "      <th>Tamanho Estabelecimento</th>\n",
              "      <th>Ind Simples</th>\n",
              "      <th></th>\n",
              "      <th></th>\n",
              "    </tr>\n",
              "  </thead>\n",
              "  <tbody>\n",
              "    <tr>\n",
              "      <th rowspan=\"5\" valign=\"top\">1112</th>\n",
              "      <th rowspan=\"5\" valign=\"top\">00</th>\n",
              "      <th rowspan=\"5\" valign=\"top\">2</th>\n",
              "      <th>2</th>\n",
              "      <th>0</th>\n",
              "      <td>1</td>\n",
              "      <td>1</td>\n",
              "    </tr>\n",
              "    <tr>\n",
              "      <th>3</th>\n",
              "      <th>0</th>\n",
              "      <td>1</td>\n",
              "      <td>1</td>\n",
              "    </tr>\n",
              "    <tr>\n",
              "      <th>4</th>\n",
              "      <th>0</th>\n",
              "      <td>1</td>\n",
              "      <td>1</td>\n",
              "    </tr>\n",
              "    <tr>\n",
              "      <th>6</th>\n",
              "      <th>0</th>\n",
              "      <td>1</td>\n",
              "      <td>1</td>\n",
              "    </tr>\n",
              "    <tr>\n",
              "      <th>7</th>\n",
              "      <th>0</th>\n",
              "      <td>1</td>\n",
              "      <td>1</td>\n",
              "    </tr>\n",
              "    <tr>\n",
              "      <th>...</th>\n",
              "      <th>...</th>\n",
              "      <th>...</th>\n",
              "      <th>...</th>\n",
              "      <th>...</th>\n",
              "      <td>...</td>\n",
              "      <td>...</td>\n",
              "    </tr>\n",
              "    <tr>\n",
              "      <th rowspan=\"5\" valign=\"top\">99007</th>\n",
              "      <th rowspan=\"4\" valign=\"top\">11</th>\n",
              "      <th rowspan=\"4\" valign=\"top\">9</th>\n",
              "      <th>2</th>\n",
              "      <th>0</th>\n",
              "      <td>3</td>\n",
              "      <td>3</td>\n",
              "    </tr>\n",
              "    <tr>\n",
              "      <th>3</th>\n",
              "      <th>0</th>\n",
              "      <td>12</td>\n",
              "      <td>12</td>\n",
              "    </tr>\n",
              "    <tr>\n",
              "      <th>4</th>\n",
              "      <th>0</th>\n",
              "      <td>18</td>\n",
              "      <td>18</td>\n",
              "    </tr>\n",
              "    <tr>\n",
              "      <th>5</th>\n",
              "      <th>0</th>\n",
              "      <td>28</td>\n",
              "      <td>28</td>\n",
              "    </tr>\n",
              "    <tr>\n",
              "      <th>{ñ</th>\n",
              "      <th>9</th>\n",
              "      <th>2</th>\n",
              "      <th>0</th>\n",
              "      <td>1</td>\n",
              "      <td>1</td>\n",
              "    </tr>\n",
              "  </tbody>\n",
              "</table>\n",
              "<p>321656 rows × 2 columns</p>\n",
              "</div>"
            ],
            "text/plain": [
              "                                                                                                    Vl Remun Média (SM)  Vl Remun Média Nom\n",
              "CNAE 95 Classe Faixa Remun Média (SM) Grau Instrução 2005-1985 Tamanho Estabelecimento Ind Simples                                         \n",
              "1112           00                     2                        2                       0                              1                   1\n",
              "                                                               3                       0                              1                   1\n",
              "                                                               4                       0                              1                   1\n",
              "                                                               6                       0                              1                   1\n",
              "                                                               7                       0                              1                   1\n",
              "...                                                                                                                 ...                 ...\n",
              "99007          11                     9                        2                       0                              3                   3\n",
              "                                                               3                       0                             12                  12\n",
              "                                                               4                       0                             18                  18\n",
              "                                                               5                       0                             28                  28\n",
              "               {ñ                     9                        2                       0                              1                   1\n",
              "\n",
              "[321656 rows x 2 columns]"
            ]
          },
          "metadata": {
            "tags": []
          },
          "execution_count": 13
        }
      ]
    }
  ]
}