{
  "nbformat": 4,
  "nbformat_minor": 0,
  "metadata": {
    "colab": {
      "name": "MODELO_RAIS_BQ.ipynb",
      "provenance": [],
      "collapsed_sections": [],
      "authorship_tag": "ABX9TyNdxPqro20hqr7itZYiQu4K",
      "include_colab_link": true
    },
    "kernelspec": {
      "name": "python3",
      "display_name": "Python 3"
    }
  },
  "cells": [
    {
      "cell_type": "markdown",
      "metadata": {
        "id": "view-in-github",
        "colab_type": "text"
      },
      "source": [
        "<a href=\"https://colab.research.google.com/github/alerosenberg/rais_ale/blob/main/MODELO_RAIS_BQ.ipynb\" target=\"_parent\"><img src=\"https://colab.research.google.com/assets/colab-badge.svg\" alt=\"Open In Colab\"/></a>"
      ]
    },
    {
      "cell_type": "code",
      "metadata": {
        "id": "0FD69gQYMYMB"
      },
      "source": [
        "#STEP-1: Import libraries\r\n",
        "!pip install -U -q PyDrive\r\n",
        "from pydrive.auth import GoogleAuth\r\n",
        "from pydrive.drive import GoogleDrive\r\n",
        "from google.colab import auth\r\n",
        "from google.colab import files\r\n",
        "from oauth2client.client import GoogleCredentials\r\n",
        "import glob\r\n",
        "#STEP-2: Autheticate E-Mail ID\r\n",
        "auth.authenticate_user()\r\n",
        "gauth = GoogleAuth()\r\n",
        "gauth.credentials = GoogleCredentials.get_application_default()\r\n",
        "drive = GoogleDrive(gauth)"
      ],
      "execution_count": null,
      "outputs": []
    },
    {
      "cell_type": "code",
      "metadata": {
        "id": "9Ojp0a7qSBkS"
      },
      "source": [
        "import pandas as pd"
      ],
      "execution_count": null,
      "outputs": []
    },
    {
      "cell_type": "code",
      "metadata": {
        "id": "H9uUFVcnNxSA"
      },
      "source": [
        "# Enable data table display\r\n",
        "# https://colab.research.google.com/notebooks/bigquery.ipynb#scrollTo=UMKGkkZEPVRu\r\n",
        "# %load_ext google.colab.data_table\r\n",
        "# %unload_ext google.colab.data_table"
      ],
      "execution_count": null,
      "outputs": []
    },
    {
      "cell_type": "code",
      "metadata": {
        "colab": {
          "base_uri": "https://localhost:8080/",
          "height": 80
        },
        "id": "6k8lI-VAOP6g",
        "outputId": "803751ff-f47f-4690-cc2b-089ca4e85ac4"
      },
      "source": [
        "# Display query output immediately\r\n",
        "\r\n",
        "%%bigquery --project aledados\r\n",
        "SELECT \r\n",
        "  COUNT(*) as total_rows\r\n",
        "FROM `bigquery-public-data.samples.gsod`"
      ],
      "execution_count": null,
      "outputs": [
        {
          "output_type": "execute_result",
          "data": {
            "text/html": [
              "<div>\n",
              "<style scoped>\n",
              "    .dataframe tbody tr th:only-of-type {\n",
              "        vertical-align: middle;\n",
              "    }\n",
              "\n",
              "    .dataframe tbody tr th {\n",
              "        vertical-align: top;\n",
              "    }\n",
              "\n",
              "    .dataframe thead th {\n",
              "        text-align: right;\n",
              "    }\n",
              "</style>\n",
              "<table border=\"1\" class=\"dataframe\">\n",
              "  <thead>\n",
              "    <tr style=\"text-align: right;\">\n",
              "      <th></th>\n",
              "      <th>total_rows</th>\n",
              "    </tr>\n",
              "  </thead>\n",
              "  <tbody>\n",
              "    <tr>\n",
              "      <th>0</th>\n",
              "      <td>114420316</td>\n",
              "    </tr>\n",
              "  </tbody>\n",
              "</table>\n",
              "</div>"
            ],
            "text/plain": [
              "   total_rows\n",
              "0   114420316"
            ]
          },
          "metadata": {
            "tags": []
          },
          "execution_count": 35
        }
      ]
    },
    {
      "cell_type": "code",
      "metadata": {
        "id": "pMLSjKLXOn6C"
      },
      "source": [
        "# Save output in a variable `df`\r\n",
        "\r\n",
        "# %%bigquery --project aledados df\r\n",
        "# SELECT \r\n",
        "#   COUNT(*) as total_rows\r\n",
        "# FROM `bigquery-public-data.samples.gsod`"
      ],
      "execution_count": null,
      "outputs": []
    },
    {
      "cell_type": "code",
      "metadata": {
        "id": "zcDykj7sODlz"
      },
      "source": [
        "project_id = 'aledados'"
      ],
      "execution_count": null,
      "outputs": []
    },
    {
      "cell_type": "code",
      "metadata": {
        "id": "Q5vDiqAdOLHD"
      },
      "source": [
        "from google.cloud import bigquery\r\n",
        "\r\n",
        "# client = bigquery.Client(project=project_id)\r\n",
        "\r\n",
        "# sample_count = 2000\r\n",
        "# row_count = client.query('''\r\n",
        "#   SELECT \r\n",
        "#     COUNT(*) as total\r\n",
        "#   FROM `bigquery-public-data.samples.gsod`''').to_dataframe().total[0]\r\n",
        "\r\n",
        "# df = client.query('''\r\n",
        "#   SELECT\r\n",
        "#     *\r\n",
        "#   FROM\r\n",
        "#     `bigquery-public-data.samples.gsod`\r\n",
        "#   WHERE RAND() < %d/%d\r\n",
        "# ''' % (sample_count, row_count)).to_dataframe()\r\n",
        "\r\n",
        "# print('Full dataset has %d rows' % row_count)\r\n",
        "\r\n",
        "# df.describe()"
      ],
      "execution_count": null,
      "outputs": []
    },
    {
      "cell_type": "code",
      "metadata": {
        "id": "kAtCa9lBPeh7"
      },
      "source": [
        "\r\n",
        "# sample_count = 2000\r\n",
        "# df = pd.io.gbq.read_gbq('''\r\n",
        "#   SELECT name, SUM(number) as count\r\n",
        "#   FROM `bigquery-public-data.usa_names.usa_1910_2013`\r\n",
        "#   WHERE state = 'TX'\r\n",
        "#   GROUP BY name\r\n",
        "#   ORDER BY count DESC\r\n",
        "#   LIMIT 100\r\n",
        "# ''', project_id=project_id, dialect='standard')\r\n",
        "\r\n",
        "# df.head()"
      ],
      "execution_count": null,
      "outputs": []
    },
    {
      "cell_type": "code",
      "metadata": {
        "id": "Sb49RTI5PwxH"
      },
      "source": [
        "df_estab = pd.io.gbq.read_gbq('''\r\n",
        "Select \r\n",
        "ano,\r\n",
        "cnae_2,\r\n",
        "indicador_simples,\r\n",
        "id_municipio_6,\r\n",
        "count(*) as qtd_empresas\r\n",
        " from `basedosdados.br_me_rais.microdados_estabelecimentos`\r\n",
        "where sigla_uf in ('SP')\r\n",
        "and ano between 2006 and 2019\r\n",
        "and indicador_rais_negativa = 0\r\n",
        "and cnae_2 <> '00000-1'\r\n",
        "group by 1,2,3,4\r\n",
        "  # LIMIT 100\r\n",
        "''', project_id='aledados')"
      ],
      "execution_count": null,
      "outputs": []
    },
    {
      "cell_type": "code",
      "metadata": {
        "colab": {
          "base_uri": "https://localhost:8080/"
        },
        "id": "QM3esxkeQjp4",
        "outputId": "d945ab14-960e-4f10-f012-1a4fdb9f6850"
      },
      "source": [
        "# df_estab.head()\r\n",
        "df_estab.count()"
      ],
      "execution_count": null,
      "outputs": [
        {
          "output_type": "execute_result",
          "data": {
            "text/plain": [
              "ano                  1503011\n",
              "cnae_2               1503011\n",
              "indicador_simples    1503011\n",
              "id_municipio_6       1503011\n",
              "qtd_empresas         1503011\n",
              "dtype: int64"
            ]
          },
          "metadata": {
            "tags": []
          },
          "execution_count": 14
        }
      ]
    },
    {
      "cell_type": "code",
      "metadata": {
        "id": "6cQ4kXQQuMTc"
      },
      "source": [
        "df_estab1 = pd.io.gbq.read_gbq('''\r\n",
        "Select \r\n",
        "ano,\r\n",
        "cnae_1,\r\n",
        "indicador_simples,\r\n",
        "id_municipio_6,\r\n",
        "count(*) as qtd_empresas\r\n",
        " from `basedosdados.br_me_rais.microdados_estabelecimentos`\r\n",
        "where sigla_uf in ('SP')\r\n",
        "and ano between 2000 and 2005\r\n",
        "and indicador_rais_negativa = 0\r\n",
        "group by 1,2,3,4\r\n",
        "  # LIMIT 100\r\n",
        "''', project_id='aledados')"
      ],
      "execution_count": null,
      "outputs": []
    },
    {
      "cell_type": "code",
      "metadata": {
        "colab": {
          "base_uri": "https://localhost:8080/",
          "height": 204
        },
        "id": "P5UqbX_VuZQH",
        "outputId": "2fcac038-1597-4e86-fb4a-3be4e097aeed"
      },
      "source": [
        "df_estab1.head()\r\n",
        "# df_estab1.count()"
      ],
      "execution_count": null,
      "outputs": [
        {
          "output_type": "execute_result",
          "data": {
            "text/html": [
              "<div>\n",
              "<style scoped>\n",
              "    .dataframe tbody tr th:only-of-type {\n",
              "        vertical-align: middle;\n",
              "    }\n",
              "\n",
              "    .dataframe tbody tr th {\n",
              "        vertical-align: top;\n",
              "    }\n",
              "\n",
              "    .dataframe thead th {\n",
              "        text-align: right;\n",
              "    }\n",
              "</style>\n",
              "<table border=\"1\" class=\"dataframe\">\n",
              "  <thead>\n",
              "    <tr style=\"text-align: right;\">\n",
              "      <th></th>\n",
              "      <th>ano</th>\n",
              "      <th>cnae_1</th>\n",
              "      <th>indicador_simples</th>\n",
              "      <th>id_municipio_6</th>\n",
              "      <th>qtd_empresas</th>\n",
              "    </tr>\n",
              "  </thead>\n",
              "  <tbody>\n",
              "    <tr>\n",
              "      <th>0</th>\n",
              "      <td>2002</td>\n",
              "      <td>01503</td>\n",
              "      <td>0</td>\n",
              "      <td>350010</td>\n",
              "      <td>116</td>\n",
              "    </tr>\n",
              "    <tr>\n",
              "      <th>1</th>\n",
              "      <td>2002</td>\n",
              "      <td>60240</td>\n",
              "      <td>1</td>\n",
              "      <td>350010</td>\n",
              "      <td>2</td>\n",
              "    </tr>\n",
              "    <tr>\n",
              "      <th>2</th>\n",
              "      <td>2002</td>\n",
              "      <td>52493</td>\n",
              "      <td>1</td>\n",
              "      <td>350010</td>\n",
              "      <td>57</td>\n",
              "    </tr>\n",
              "    <tr>\n",
              "      <th>3</th>\n",
              "      <td>2002</td>\n",
              "      <td>52442</td>\n",
              "      <td>1</td>\n",
              "      <td>350010</td>\n",
              "      <td>19</td>\n",
              "    </tr>\n",
              "    <tr>\n",
              "      <th>4</th>\n",
              "      <td>2002</td>\n",
              "      <td>74993</td>\n",
              "      <td>0</td>\n",
              "      <td>350010</td>\n",
              "      <td>5</td>\n",
              "    </tr>\n",
              "  </tbody>\n",
              "</table>\n",
              "</div>"
            ],
            "text/plain": [
              "    ano cnae_1  indicador_simples  id_municipio_6  qtd_empresas\n",
              "0  2002  01503                  0          350010           116\n",
              "1  2002  60240                  1          350010             2\n",
              "2  2002  52493                  1          350010            57\n",
              "3  2002  52442                  1          350010            19\n",
              "4  2002  74993                  0          350010             5"
            ]
          },
          "metadata": {
            "tags": []
          },
          "execution_count": 157
        }
      ]
    },
    {
      "cell_type": "code",
      "metadata": {
        "id": "cVxyRfYuTls0"
      },
      "source": [
        "df_vinc = pd.io.gbq.read_gbq('''\r\n",
        "Select \r\n",
        "ano,\r\n",
        "cnae_2,\r\n",
        "indicador_simples,\r\n",
        "id_municipio_6,\r\n",
        "avg(valor_remun_media_nominal) as rem_med,\r\n",
        "count(vinculo_ativo_3112) as empregados_ativos\r\n",
        "from `basedosdados.br_me_rais.microdados_vinculos`\r\n",
        "where sigla_uf in ('SP')\r\n",
        "and ano between 2006 and 2019\r\n",
        "and vinculo_ativo_3112 > 0 and valor_remun_media_nominal > 0\r\n",
        "and cnae_2 <> '00000-1'\r\n",
        "group by 1,2,3,4\r\n",
        "  # LIMIT 100\r\n",
        "''', project_id='aledados')"
      ],
      "execution_count": null,
      "outputs": []
    },
    {
      "cell_type": "code",
      "metadata": {
        "colab": {
          "base_uri": "https://localhost:8080/",
          "height": 204
        },
        "id": "--meLuBBVzs0",
        "outputId": "be75ad63-b06c-4866-cc2b-c8d3cb9474b0"
      },
      "source": [
        "# df_vinc.head()\r\n",
        "# df_vinc.count()"
      ],
      "execution_count": null,
      "outputs": [
        {
          "output_type": "execute_result",
          "data": {
            "text/html": [
              "<div>\n",
              "<style scoped>\n",
              "    .dataframe tbody tr th:only-of-type {\n",
              "        vertical-align: middle;\n",
              "    }\n",
              "\n",
              "    .dataframe tbody tr th {\n",
              "        vertical-align: top;\n",
              "    }\n",
              "\n",
              "    .dataframe thead th {\n",
              "        text-align: right;\n",
              "    }\n",
              "</style>\n",
              "<table border=\"1\" class=\"dataframe\">\n",
              "  <thead>\n",
              "    <tr style=\"text-align: right;\">\n",
              "      <th></th>\n",
              "      <th>ano</th>\n",
              "      <th>cnae_2</th>\n",
              "      <th>indicador_simples</th>\n",
              "      <th>id_municipio_6</th>\n",
              "      <th>rem_med</th>\n",
              "      <th>empregados_ativos</th>\n",
              "    </tr>\n",
              "  </thead>\n",
              "  <tbody>\n",
              "    <tr>\n",
              "      <th>0</th>\n",
              "      <td>2015</td>\n",
              "      <td>41204</td>\n",
              "      <td>0</td>\n",
              "      <td>355030</td>\n",
              "      <td>2644.501423</td>\n",
              "      <td>72207</td>\n",
              "    </tr>\n",
              "    <tr>\n",
              "      <th>1</th>\n",
              "      <td>2015</td>\n",
              "      <td>56112</td>\n",
              "      <td>0</td>\n",
              "      <td>355030</td>\n",
              "      <td>1525.051005</td>\n",
              "      <td>62494</td>\n",
              "    </tr>\n",
              "    <tr>\n",
              "      <th>2</th>\n",
              "      <td>2015</td>\n",
              "      <td>85139</td>\n",
              "      <td>1</td>\n",
              "      <td>355030</td>\n",
              "      <td>1911.027581</td>\n",
              "      <td>19177</td>\n",
              "    </tr>\n",
              "    <tr>\n",
              "      <th>3</th>\n",
              "      <td>2015</td>\n",
              "      <td>45200</td>\n",
              "      <td>1</td>\n",
              "      <td>355030</td>\n",
              "      <td>1652.977156</td>\n",
              "      <td>12615</td>\n",
              "    </tr>\n",
              "    <tr>\n",
              "      <th>4</th>\n",
              "      <td>2015</td>\n",
              "      <td>81125</td>\n",
              "      <td>0</td>\n",
              "      <td>355030</td>\n",
              "      <td>2364.260472</td>\n",
              "      <td>96262</td>\n",
              "    </tr>\n",
              "  </tbody>\n",
              "</table>\n",
              "</div>"
            ],
            "text/plain": [
              "    ano cnae_2  ...      rem_med  empregados_ativos\n",
              "0  2015  41204  ...  2644.501423              72207\n",
              "1  2015  56112  ...  1525.051005              62494\n",
              "2  2015  85139  ...  1911.027581              19177\n",
              "3  2015  45200  ...  1652.977156              12615\n",
              "4  2015  81125  ...  2364.260472              96262\n",
              "\n",
              "[5 rows x 6 columns]"
            ]
          },
          "metadata": {
            "tags": []
          },
          "execution_count": 18
        }
      ]
    },
    {
      "cell_type": "code",
      "metadata": {
        "id": "Oy4AiKQFuiwr"
      },
      "source": [
        "df_vinc1 = pd.io.gbq.read_gbq('''\r\n",
        "Select \r\n",
        "ano,\r\n",
        "cnae_1,\r\n",
        "indicador_simples,\r\n",
        "id_municipio_6,\r\n",
        "avg(valor_remun_media_nominal) as rem_med,\r\n",
        "count(vinculo_ativo_3112) as empregados_ativos\r\n",
        "from `basedosdados.br_me_rais.microdados_vinculos`\r\n",
        "where sigla_uf in ('SP')\r\n",
        "and ano between 2000 and 2003\r\n",
        "and vinculo_ativo_3112 > 0 and valor_remun_media_nominal > 0\r\n",
        "group by 1,2,3,4\r\n",
        "  # LIMIT 100\r\n",
        "''', project_id='aledados')"
      ],
      "execution_count": null,
      "outputs": []
    },
    {
      "cell_type": "code",
      "metadata": {
        "colab": {
          "base_uri": "https://localhost:8080/"
        },
        "id": "zCXW-jZhx_6p",
        "outputId": "d4dc49b9-560f-48f7-cf8a-539145d65bd2"
      },
      "source": [
        "# df_vinc1.head()\r\n",
        "# df_vinc1.count()"
      ],
      "execution_count": null,
      "outputs": [
        {
          "output_type": "execute_result",
          "data": {
            "text/plain": [
              "ano                  272597\n",
              "cnae_1               272597\n",
              "indicador_simples    216130\n",
              "id_municipio_6       272597\n",
              "rem_med              272597\n",
              "empregados_ativos    272597\n",
              "dtype: int64"
            ]
          },
          "metadata": {
            "tags": []
          },
          "execution_count": 162
        }
      ]
    },
    {
      "cell_type": "code",
      "metadata": {
        "id": "NsAGV4V21NN7"
      },
      "source": [
        "df_vinc11 = pd.io.gbq.read_gbq('''\r\n",
        "Select \r\n",
        "ano,\r\n",
        "cnae_1,\r\n",
        "indicador_simples,\r\n",
        "id_municipio_6,\r\n",
        "avg(valor_remun_media_nominal) as rem_med,\r\n",
        "count(vinculo_ativo_3112) as empregados_ativos\r\n",
        "from `basedosdados.br_me_rais.microdados_vinculos`\r\n",
        "where sigla_uf in ('SP')\r\n",
        "and ano between 2004 and 2005\r\n",
        "and vinculo_ativo_3112 > 0 and valor_remun_media_nominal > 0\r\n",
        "group by 1,2,3,4\r\n",
        "  # LIMIT 100\r\n",
        "''', project_id='aledados')"
      ],
      "execution_count": null,
      "outputs": []
    },
    {
      "cell_type": "code",
      "metadata": {
        "id": "Q28tomWTU32D"
      },
      "source": [
        "result = pd.merge(df_estab, df_vinc, how=\"left\", on=[\"ano\",\"cnae_2\",\"indicador_simples\",\"id_municipio_6\"])"
      ],
      "execution_count": null,
      "outputs": []
    },
    {
      "cell_type": "code",
      "metadata": {
        "id": "GkXibTUU1ut5"
      },
      "source": [
        "df_vinc1f = pd.concat([df_vinc1, df_vinc11])"
      ],
      "execution_count": null,
      "outputs": []
    },
    {
      "cell_type": "code",
      "metadata": {
        "id": "PWGrIMDTvAli"
      },
      "source": [
        "result1 = pd.merge(df_estab1, df_vinc1f, how=\"left\", on=[\"ano\",\"cnae_1\",\"indicador_simples\",\"id_municipio_6\"])"
      ],
      "execution_count": null,
      "outputs": []
    },
    {
      "cell_type": "code",
      "metadata": {
        "id": "rB_bYPbGZk2M"
      },
      "source": [
        "import numpy as np \r\n",
        "result['rem_med_log'] = np.log(result['rem_med']) \r\n",
        "result['empregados_ativos_log'] = np.log(result['empregados_ativos']) \r\n",
        "result['rem_med_log'] = np.log(result['qtd_empresas'])"
      ],
      "execution_count": null,
      "outputs": []
    },
    {
      "cell_type": "code",
      "metadata": {
        "id": "lOHhDZEcvKM5"
      },
      "source": [
        "result1['rem_med_log'] = np.log(result1['rem_med']) \r\n",
        "result1['empregados_ativos_log'] = np.log(result1['empregados_ativos']) \r\n",
        "result1['rem_med_log'] = np.log(result1['qtd_empresas']) "
      ],
      "execution_count": null,
      "outputs": []
    },
    {
      "cell_type": "code",
      "metadata": {
        "colab": {
          "base_uri": "https://localhost:8080/",
          "height": 204
        },
        "id": "5z9L5jIoWHU6",
        "outputId": "2b6a6e7c-3353-4807-d4ee-8935645a1dd6"
      },
      "source": [
        "result.head()\r\n",
        "# result.count()"
      ],
      "execution_count": null,
      "outputs": [
        {
          "output_type": "execute_result",
          "data": {
            "text/html": [
              "<div>\n",
              "<style scoped>\n",
              "    .dataframe tbody tr th:only-of-type {\n",
              "        vertical-align: middle;\n",
              "    }\n",
              "\n",
              "    .dataframe tbody tr th {\n",
              "        vertical-align: top;\n",
              "    }\n",
              "\n",
              "    .dataframe thead th {\n",
              "        text-align: right;\n",
              "    }\n",
              "</style>\n",
              "<table border=\"1\" class=\"dataframe\">\n",
              "  <thead>\n",
              "    <tr style=\"text-align: right;\">\n",
              "      <th></th>\n",
              "      <th>ano</th>\n",
              "      <th>cnae_2</th>\n",
              "      <th>indicador_simples</th>\n",
              "      <th>id_municipio_6</th>\n",
              "      <th>qtd_empresas</th>\n",
              "      <th>rem_med</th>\n",
              "      <th>empregados_ativos</th>\n",
              "      <th>rem_med_log</th>\n",
              "      <th>empregados_ativos_log</th>\n",
              "      <th>qtd_empresas_log</th>\n",
              "    </tr>\n",
              "  </thead>\n",
              "  <tbody>\n",
              "    <tr>\n",
              "      <th>0</th>\n",
              "      <td>2006</td>\n",
              "      <td>47555</td>\n",
              "      <td>1</td>\n",
              "      <td>350010</td>\n",
              "      <td>12</td>\n",
              "      <td>462.994000</td>\n",
              "      <td>20.0</td>\n",
              "      <td>6.137714</td>\n",
              "      <td>2.995732</td>\n",
              "      <td>2.484907</td>\n",
              "    </tr>\n",
              "    <tr>\n",
              "      <th>1</th>\n",
              "      <td>2006</td>\n",
              "      <td>47547</td>\n",
              "      <td>1</td>\n",
              "      <td>350010</td>\n",
              "      <td>9</td>\n",
              "      <td>539.327200</td>\n",
              "      <td>25.0</td>\n",
              "      <td>6.290322</td>\n",
              "      <td>3.218876</td>\n",
              "      <td>2.197225</td>\n",
              "    </tr>\n",
              "    <tr>\n",
              "      <th>2</th>\n",
              "      <td>2006</td>\n",
              "      <td>94308</td>\n",
              "      <td>0</td>\n",
              "      <td>350010</td>\n",
              "      <td>8</td>\n",
              "      <td>504.611310</td>\n",
              "      <td>145.0</td>\n",
              "      <td>6.223788</td>\n",
              "      <td>4.976734</td>\n",
              "      <td>2.079442</td>\n",
              "    </tr>\n",
              "    <tr>\n",
              "      <th>3</th>\n",
              "      <td>2006</td>\n",
              "      <td>86305</td>\n",
              "      <td>0</td>\n",
              "      <td>350010</td>\n",
              "      <td>39</td>\n",
              "      <td>425.634500</td>\n",
              "      <td>40.0</td>\n",
              "      <td>6.053581</td>\n",
              "      <td>3.688879</td>\n",
              "      <td>3.663562</td>\n",
              "    </tr>\n",
              "    <tr>\n",
              "      <th>4</th>\n",
              "      <td>2006</td>\n",
              "      <td>45307</td>\n",
              "      <td>1</td>\n",
              "      <td>350010</td>\n",
              "      <td>42</td>\n",
              "      <td>601.771471</td>\n",
              "      <td>136.0</td>\n",
              "      <td>6.399878</td>\n",
              "      <td>4.912655</td>\n",
              "      <td>3.737670</td>\n",
              "    </tr>\n",
              "  </tbody>\n",
              "</table>\n",
              "</div>"
            ],
            "text/plain": [
              "    ano cnae_2  ...  empregados_ativos_log  qtd_empresas_log\n",
              "0  2006  47555  ...               2.995732          2.484907\n",
              "1  2006  47547  ...               3.218876          2.197225\n",
              "2  2006  94308  ...               4.976734          2.079442\n",
              "3  2006  86305  ...               3.688879          3.663562\n",
              "4  2006  45307  ...               4.912655          3.737670\n",
              "\n",
              "[5 rows x 10 columns]"
            ]
          },
          "metadata": {
            "tags": []
          },
          "execution_count": 53
        }
      ]
    },
    {
      "cell_type": "code",
      "metadata": {
        "id": "Ztdf7F7AvQ1z"
      },
      "source": [
        "result1.head()\r\n",
        "# result1.count()"
      ],
      "execution_count": null,
      "outputs": []
    },
    {
      "cell_type": "code",
      "metadata": {
        "id": "cL3arfjUL9lq"
      },
      "source": [
        "!pip install linearmodels\r\n",
        "from linearmodels import PanelOLS"
      ],
      "execution_count": null,
      "outputs": []
    },
    {
      "cell_type": "code",
      "metadata": {
        "id": "40I8F_8ev5wk"
      },
      "source": [
        "file_id = '1dTGoL-B-8_prpCF4I7sbD7LcWueBx7bf'\r\n",
        "downloaded = drive.CreateFile({'id': file_id})\r\n",
        "downloaded.GetContentFile('BASE_MODELO_FINAL.xlsx')"
      ],
      "execution_count": null,
      "outputs": []
    },
    {
      "cell_type": "code",
      "metadata": {
        "colab": {
          "base_uri": "https://localhost:8080/",
          "height": 411
        },
        "id": "mdjUaX4ENnKv",
        "outputId": "797362ba-870d-4df5-82a5-57d6aaa19e97"
      },
      "source": [
        "!pip install -q xlrd\r\n",
        "base_modelo = pd.read_excel('BASE_MODELO_FINAL.xlsx')\r\n",
        "base_modelo.head()"
      ],
      "execution_count": null,
      "outputs": [
        {
          "output_type": "execute_result",
          "data": {
            "text/html": [
              "<div>\n",
              "<style scoped>\n",
              "    .dataframe tbody tr th:only-of-type {\n",
              "        vertical-align: middle;\n",
              "    }\n",
              "\n",
              "    .dataframe tbody tr th {\n",
              "        vertical-align: top;\n",
              "    }\n",
              "\n",
              "    .dataframe thead th {\n",
              "        text-align: right;\n",
              "    }\n",
              "</style>\n",
              "<table border=\"1\" class=\"dataframe\">\n",
              "  <thead>\n",
              "    <tr style=\"text-align: right;\">\n",
              "      <th></th>\n",
              "      <th>cnae_2</th>\n",
              "      <th>ano</th>\n",
              "      <th>DESC_CNAE2_5D</th>\n",
              "      <th>ATIVIDADE_CONTA_NACIONAL</th>\n",
              "      <th>DESC_ATIVIDADE</th>\n",
              "      <th>SETOR_COM_ST</th>\n",
              "      <th>ST_CNAE_CNAE</th>\n",
              "      <th>DUMMY_ST_CNAE</th>\n",
              "      <th>DUMMY_ST_PRE08</th>\n",
              "      <th>DUMMY_ST_POS08</th>\n",
              "      <th>SETOR</th>\n",
              "      <th>DUMMY_PRIMARIO</th>\n",
              "      <th>DUMMY_SECUNDARIO</th>\n",
              "      <th>DUMMY_TERCIARIO</th>\n",
              "      <th>PERC_ATIV_ST</th>\n",
              "      <th>O_ST</th>\n",
              "      <th>D_ST</th>\n",
              "      <th>DUMMY_MI_08</th>\n",
              "    </tr>\n",
              "  </thead>\n",
              "  <tbody>\n",
              "    <tr>\n",
              "      <th>0</th>\n",
              "      <td>1113</td>\n",
              "      <td>2000</td>\n",
              "      <td>Cultivo de cereais</td>\n",
              "      <td>191</td>\n",
              "      <td>Agricultura, inclusive o apoio à agricultura e...</td>\n",
              "      <td>1</td>\n",
              "      <td>SEM ST</td>\n",
              "      <td>0</td>\n",
              "      <td>0</td>\n",
              "      <td>0</td>\n",
              "      <td>Primário</td>\n",
              "      <td>1</td>\n",
              "      <td>0</td>\n",
              "      <td>0</td>\n",
              "      <td>0.21778</td>\n",
              "      <td>0.313344</td>\n",
              "      <td>0.795963</td>\n",
              "      <td>0</td>\n",
              "    </tr>\n",
              "    <tr>\n",
              "      <th>1</th>\n",
              "      <td>1121</td>\n",
              "      <td>2000</td>\n",
              "      <td>Cultivo de algodão herbáceo e de outras fibras...</td>\n",
              "      <td>191</td>\n",
              "      <td>Agricultura, inclusive o apoio à agricultura e...</td>\n",
              "      <td>1</td>\n",
              "      <td>SEM ST</td>\n",
              "      <td>0</td>\n",
              "      <td>0</td>\n",
              "      <td>0</td>\n",
              "      <td>Primário</td>\n",
              "      <td>1</td>\n",
              "      <td>0</td>\n",
              "      <td>0</td>\n",
              "      <td>0.21778</td>\n",
              "      <td>0.313344</td>\n",
              "      <td>0.795963</td>\n",
              "      <td>0</td>\n",
              "    </tr>\n",
              "    <tr>\n",
              "      <th>2</th>\n",
              "      <td>1130</td>\n",
              "      <td>2000</td>\n",
              "      <td>Cultivo de cana-de-açúcar</td>\n",
              "      <td>191</td>\n",
              "      <td>Agricultura, inclusive o apoio à agricultura e...</td>\n",
              "      <td>1</td>\n",
              "      <td>SEM ST</td>\n",
              "      <td>0</td>\n",
              "      <td>0</td>\n",
              "      <td>0</td>\n",
              "      <td>Primário</td>\n",
              "      <td>1</td>\n",
              "      <td>0</td>\n",
              "      <td>0</td>\n",
              "      <td>0.21778</td>\n",
              "      <td>0.313344</td>\n",
              "      <td>0.795963</td>\n",
              "      <td>0</td>\n",
              "    </tr>\n",
              "    <tr>\n",
              "      <th>3</th>\n",
              "      <td>1148</td>\n",
              "      <td>2000</td>\n",
              "      <td>Cultivo de fumo</td>\n",
              "      <td>191</td>\n",
              "      <td>Agricultura, inclusive o apoio à agricultura e...</td>\n",
              "      <td>1</td>\n",
              "      <td>SEM ST</td>\n",
              "      <td>0</td>\n",
              "      <td>0</td>\n",
              "      <td>0</td>\n",
              "      <td>Primário</td>\n",
              "      <td>1</td>\n",
              "      <td>0</td>\n",
              "      <td>0</td>\n",
              "      <td>0.21778</td>\n",
              "      <td>0.313344</td>\n",
              "      <td>0.795963</td>\n",
              "      <td>0</td>\n",
              "    </tr>\n",
              "    <tr>\n",
              "      <th>4</th>\n",
              "      <td>1156</td>\n",
              "      <td>2000</td>\n",
              "      <td>Cultivo de soja</td>\n",
              "      <td>191</td>\n",
              "      <td>Agricultura, inclusive o apoio à agricultura e...</td>\n",
              "      <td>1</td>\n",
              "      <td>SEM ST</td>\n",
              "      <td>0</td>\n",
              "      <td>0</td>\n",
              "      <td>0</td>\n",
              "      <td>Primário</td>\n",
              "      <td>1</td>\n",
              "      <td>0</td>\n",
              "      <td>0</td>\n",
              "      <td>0.21778</td>\n",
              "      <td>0.313344</td>\n",
              "      <td>0.795963</td>\n",
              "      <td>0</td>\n",
              "    </tr>\n",
              "  </tbody>\n",
              "</table>\n",
              "</div>"
            ],
            "text/plain": [
              "   cnae_2   ano  ...      D_ST  DUMMY_MI_08\n",
              "0    1113  2000  ...  0.795963            0\n",
              "1    1121  2000  ...  0.795963            0\n",
              "2    1130  2000  ...  0.795963            0\n",
              "3    1148  2000  ...  0.795963            0\n",
              "4    1156  2000  ...  0.795963            0\n",
              "\n",
              "[5 rows x 18 columns]"
            ]
          },
          "metadata": {
            "tags": []
          },
          "execution_count": 66
        }
      ]
    },
    {
      "cell_type": "code",
      "metadata": {
        "id": "xGuE7mxbNErD"
      },
      "source": [
        "file_id = '1AoUhBeM7E5kEpK2Pr54JTXgnCc3ov8Zm'\r\n",
        "downloaded = drive.CreateFile({'id': file_id})\r\n",
        "downloaded.GetContentFile('CNAE_1_CNAE_2_final.xlsx')"
      ],
      "execution_count": null,
      "outputs": []
    },
    {
      "cell_type": "code",
      "metadata": {
        "id": "uD_SopVswY1z"
      },
      "source": [
        "base_cnae1_cnae2 = pd.read_excel('CNAE_1_CNAE_2_final.xlsx')\r\n",
        "base_cnae1_cnae2.head()"
      ],
      "execution_count": null,
      "outputs": []
    },
    {
      "cell_type": "code",
      "metadata": {
        "id": "lII4JPcddFkW"
      },
      "source": [
        "result['ano']=result['ano'].astype(int)\r\n",
        "result['cnae_2']=result['cnae_2'].astype(int)\r\n",
        "result1['ano']=result['ano'].astype(int)\r\n",
        "result1['cnae_1']=result['cnae_1'].astype(int)"
      ],
      "execution_count": null,
      "outputs": []
    },
    {
      "cell_type": "code",
      "metadata": {
        "id": "rtvUuOkqb2GB"
      },
      "source": [
        "result_base = pd.merge(result, base_modelo, how=\"left\", on=[\"ano\",\"cnae_2\"])"
      ],
      "execution_count": null,
      "outputs": []
    },
    {
      "cell_type": "code",
      "metadata": {
        "id": "z2pMAOC-yi-h"
      },
      "source": [
        "result_base1 = pd.merge(result1, base_cnae1_cnae2, how=\"left\", on=[\"cnae_1\"])"
      ],
      "execution_count": null,
      "outputs": []
    },
    {
      "cell_type": "code",
      "metadata": {
        "id": "qp5gv3H527Li"
      },
      "source": [
        "result_base1f = pd.merge(result_base1, base_modelo, how=\"left\", on=[\"cnae_2\"])"
      ],
      "execution_count": null,
      "outputs": []
    },
    {
      "cell_type": "code",
      "metadata": {
        "id": "e_XymQTVjfFT"
      },
      "source": [
        "result_base['cnae_2_municipio'] = result_base['cnae_2'].map(str)+df['id_municipio_6'].map(str)"
      ],
      "execution_count": null,
      "outputs": []
    },
    {
      "cell_type": "code",
      "metadata": {
        "id": "_IRLlTbOzO4o"
      },
      "source": [
        "result_base1f['cnae_2_municipio'] = result_base1f['cnae_2'].map(str)+df['id_municipio_6'].map(str)"
      ],
      "execution_count": null,
      "outputs": []
    },
    {
      "cell_type": "code",
      "metadata": {
        "id": "ZWrsVeN53R0z"
      },
      "source": [
        "result_base_completa = pd.concat([result_base1f, result_base])"
      ],
      "execution_count": null,
      "outputs": []
    },
    {
      "cell_type": "code",
      "metadata": {
        "colab": {
          "base_uri": "https://localhost:8080/",
          "height": 479
        },
        "id": "AXMdsyLjei-v",
        "outputId": "1ccad36c-590e-445d-96d7-2f993cb8a8f3"
      },
      "source": [
        "result_base_completa.head()\r\n"
      ],
      "execution_count": null,
      "outputs": [
        {
          "output_type": "execute_result",
          "data": {
            "text/html": [
              "<div>\n",
              "<style scoped>\n",
              "    .dataframe tbody tr th:only-of-type {\n",
              "        vertical-align: middle;\n",
              "    }\n",
              "\n",
              "    .dataframe tbody tr th {\n",
              "        vertical-align: top;\n",
              "    }\n",
              "\n",
              "    .dataframe thead th {\n",
              "        text-align: right;\n",
              "    }\n",
              "</style>\n",
              "<table border=\"1\" class=\"dataframe\">\n",
              "  <thead>\n",
              "    <tr style=\"text-align: right;\">\n",
              "      <th></th>\n",
              "      <th>ano</th>\n",
              "      <th>cnae_2</th>\n",
              "      <th>indicador_simples</th>\n",
              "      <th>id_municipio_6</th>\n",
              "      <th>qtd_empresas</th>\n",
              "      <th>rem_med</th>\n",
              "      <th>empregados_ativos</th>\n",
              "      <th>rem_med_log</th>\n",
              "      <th>empregados_ativos_log</th>\n",
              "      <th>qtd_empresas_log</th>\n",
              "      <th>DESC_CNAE2_5D</th>\n",
              "      <th>ATIVIDADE_CONTA_NACIONAL</th>\n",
              "      <th>DESC_ATIVIDADE</th>\n",
              "      <th>SETOR_COM_ST</th>\n",
              "      <th>ST_CNAE_CNAE</th>\n",
              "      <th>DUMMY_ST_CNAE</th>\n",
              "      <th>DUMMY_ST_PRE08</th>\n",
              "      <th>DUMMY_ST_POS08</th>\n",
              "      <th>SETOR</th>\n",
              "      <th>DUMMY_PRIMARIO</th>\n",
              "      <th>DUMMY_SECUNDARIO</th>\n",
              "      <th>DUMMY_TERCIARIO</th>\n",
              "      <th>PERC_ATIV_ST</th>\n",
              "      <th>O_ST</th>\n",
              "      <th>D_ST</th>\n",
              "      <th>DUMMY_MI_08</th>\n",
              "      <th>cnae_2_municipio</th>\n",
              "    </tr>\n",
              "  </thead>\n",
              "  <tbody>\n",
              "    <tr>\n",
              "      <th>0</th>\n",
              "      <td>2006</td>\n",
              "      <td>47555</td>\n",
              "      <td>1</td>\n",
              "      <td>350010</td>\n",
              "      <td>12</td>\n",
              "      <td>462.994000</td>\n",
              "      <td>20.0</td>\n",
              "      <td>6.137714</td>\n",
              "      <td>2.995732</td>\n",
              "      <td>2.484907</td>\n",
              "      <td>Comércio varejista especializado de tecidos e ...</td>\n",
              "      <td>4680</td>\n",
              "      <td>Comércio por atacado e a varejo, exceto veícul...</td>\n",
              "      <td>0</td>\n",
              "      <td>SEM ST</td>\n",
              "      <td>0</td>\n",
              "      <td>0</td>\n",
              "      <td>0</td>\n",
              "      <td>Terciário</td>\n",
              "      <td>0</td>\n",
              "      <td>0</td>\n",
              "      <td>1</td>\n",
              "      <td>0.0</td>\n",
              "      <td>0.154965</td>\n",
              "      <td>0.451458</td>\n",
              "      <td>0</td>\n",
              "      <td>47555350010</td>\n",
              "    </tr>\n",
              "    <tr>\n",
              "      <th>1</th>\n",
              "      <td>2006</td>\n",
              "      <td>47547</td>\n",
              "      <td>1</td>\n",
              "      <td>350010</td>\n",
              "      <td>9</td>\n",
              "      <td>539.327200</td>\n",
              "      <td>25.0</td>\n",
              "      <td>6.290322</td>\n",
              "      <td>3.218876</td>\n",
              "      <td>2.197225</td>\n",
              "      <td>Comércio varejista especializado de móveis, co...</td>\n",
              "      <td>4680</td>\n",
              "      <td>Comércio por atacado e a varejo, exceto veícul...</td>\n",
              "      <td>0</td>\n",
              "      <td>SEM ST</td>\n",
              "      <td>0</td>\n",
              "      <td>0</td>\n",
              "      <td>0</td>\n",
              "      <td>Terciário</td>\n",
              "      <td>0</td>\n",
              "      <td>0</td>\n",
              "      <td>1</td>\n",
              "      <td>0.0</td>\n",
              "      <td>0.154965</td>\n",
              "      <td>0.451458</td>\n",
              "      <td>0</td>\n",
              "      <td>47547350010</td>\n",
              "    </tr>\n",
              "    <tr>\n",
              "      <th>2</th>\n",
              "      <td>2006</td>\n",
              "      <td>94308</td>\n",
              "      <td>0</td>\n",
              "      <td>350010</td>\n",
              "      <td>8</td>\n",
              "      <td>504.611310</td>\n",
              "      <td>145.0</td>\n",
              "      <td>6.223788</td>\n",
              "      <td>4.976734</td>\n",
              "      <td>2.079442</td>\n",
              "      <td>Atividades de associações de defesa de direito...</td>\n",
              "      <td>9480</td>\n",
              "      <td>Organizações associativas e outros serviços pe...</td>\n",
              "      <td>0</td>\n",
              "      <td>SEM ST</td>\n",
              "      <td>0</td>\n",
              "      <td>0</td>\n",
              "      <td>0</td>\n",
              "      <td>Terciário</td>\n",
              "      <td>0</td>\n",
              "      <td>0</td>\n",
              "      <td>1</td>\n",
              "      <td>0.0</td>\n",
              "      <td>0.099661</td>\n",
              "      <td>0.153018</td>\n",
              "      <td>0</td>\n",
              "      <td>94308350010</td>\n",
              "    </tr>\n",
              "    <tr>\n",
              "      <th>3</th>\n",
              "      <td>2006</td>\n",
              "      <td>86305</td>\n",
              "      <td>0</td>\n",
              "      <td>350010</td>\n",
              "      <td>39</td>\n",
              "      <td>425.634500</td>\n",
              "      <td>40.0</td>\n",
              "      <td>6.053581</td>\n",
              "      <td>3.688879</td>\n",
              "      <td>3.663562</td>\n",
              "      <td>Atividades de atenção ambulatorial executadas ...</td>\n",
              "      <td>8691</td>\n",
              "      <td>Saúde pública</td>\n",
              "      <td>0</td>\n",
              "      <td>SEM ST</td>\n",
              "      <td>0</td>\n",
              "      <td>0</td>\n",
              "      <td>0</td>\n",
              "      <td>Terciário</td>\n",
              "      <td>0</td>\n",
              "      <td>0</td>\n",
              "      <td>1</td>\n",
              "      <td>0.0</td>\n",
              "      <td>0.172272</td>\n",
              "      <td>0.093667</td>\n",
              "      <td>0</td>\n",
              "      <td>86305350010</td>\n",
              "    </tr>\n",
              "    <tr>\n",
              "      <th>4</th>\n",
              "      <td>2006</td>\n",
              "      <td>45307</td>\n",
              "      <td>1</td>\n",
              "      <td>350010</td>\n",
              "      <td>42</td>\n",
              "      <td>601.771471</td>\n",
              "      <td>136.0</td>\n",
              "      <td>6.399878</td>\n",
              "      <td>4.912655</td>\n",
              "      <td>3.737670</td>\n",
              "      <td>Comércio de peças e acessórios para veículos a...</td>\n",
              "      <td>4500</td>\n",
              "      <td>Comércio e reparação de veículos automotores e...</td>\n",
              "      <td>0</td>\n",
              "      <td>SEM ST</td>\n",
              "      <td>0</td>\n",
              "      <td>0</td>\n",
              "      <td>0</td>\n",
              "      <td>Terciário</td>\n",
              "      <td>0</td>\n",
              "      <td>0</td>\n",
              "      <td>1</td>\n",
              "      <td>0.0</td>\n",
              "      <td>0.374791</td>\n",
              "      <td>0.402052</td>\n",
              "      <td>0</td>\n",
              "      <td>45307350010</td>\n",
              "    </tr>\n",
              "  </tbody>\n",
              "</table>\n",
              "</div>"
            ],
            "text/plain": [
              "    ano  cnae_2  indicador_simples  ...      D_ST  DUMMY_MI_08  cnae_2_municipio\n",
              "0  2006   47555                  1  ...  0.451458            0       47555350010\n",
              "1  2006   47547                  1  ...  0.451458            0       47547350010\n",
              "2  2006   94308                  0  ...  0.153018            0       94308350010\n",
              "3  2006   86305                  0  ...  0.093667            0       86305350010\n",
              "4  2006   45307                  1  ...  0.402052            0       45307350010\n",
              "\n",
              "[5 rows x 27 columns]"
            ]
          },
          "metadata": {
            "tags": []
          },
          "execution_count": 127
        }
      ]
    },
    {
      "cell_type": "code",
      "metadata": {
        "colab": {
          "base_uri": "https://localhost:8080/",
          "height": 428
        },
        "id": "nDF9QUuXd4CV",
        "outputId": "ee94640c-480a-483c-ac13-fe74aa20889b"
      },
      "source": [
        "df1 = result_base_completa[result_base_completa.SETOR_COM_ST.isin([1])]\r\n",
        "df1.count()\r\n",
        "df1.head()"
      ],
      "execution_count": null,
      "outputs": [
        {
          "output_type": "execute_result",
          "data": {
            "text/html": [
              "<div>\n",
              "<style scoped>\n",
              "    .dataframe tbody tr th:only-of-type {\n",
              "        vertical-align: middle;\n",
              "    }\n",
              "\n",
              "    .dataframe tbody tr th {\n",
              "        vertical-align: top;\n",
              "    }\n",
              "\n",
              "    .dataframe thead th {\n",
              "        text-align: right;\n",
              "    }\n",
              "</style>\n",
              "<table border=\"1\" class=\"dataframe\">\n",
              "  <thead>\n",
              "    <tr style=\"text-align: right;\">\n",
              "      <th></th>\n",
              "      <th>ano</th>\n",
              "      <th>cnae_2</th>\n",
              "      <th>indicador_simples</th>\n",
              "      <th>id_municipio_6</th>\n",
              "      <th>qtd_empresas</th>\n",
              "      <th>rem_med</th>\n",
              "      <th>empregados_ativos</th>\n",
              "      <th>rem_med_log</th>\n",
              "      <th>empregados_ativos_log</th>\n",
              "      <th>qtd_empresas_log</th>\n",
              "      <th>DESC_CNAE2_5D</th>\n",
              "      <th>ATIVIDADE_CONTA_NACIONAL</th>\n",
              "      <th>DESC_ATIVIDADE</th>\n",
              "      <th>SETOR_COM_ST</th>\n",
              "      <th>ST_CNAE_CNAE</th>\n",
              "      <th>DUMMY_ST_CNAE</th>\n",
              "      <th>DUMMY_ST_PRE08</th>\n",
              "      <th>DUMMY_ST_POS08</th>\n",
              "      <th>SETOR</th>\n",
              "      <th>DUMMY_PRIMARIO</th>\n",
              "      <th>DUMMY_SECUNDARIO</th>\n",
              "      <th>DUMMY_TERCIARIO</th>\n",
              "      <th>PERC_ATIV_ST</th>\n",
              "      <th>O_ST</th>\n",
              "      <th>D_ST</th>\n",
              "      <th>DUMMY_MI_08</th>\n",
              "      <th>cnae_2_municipio</th>\n",
              "    </tr>\n",
              "  </thead>\n",
              "  <tbody>\n",
              "    <tr>\n",
              "      <th>8</th>\n",
              "      <td>2006</td>\n",
              "      <td>23427</td>\n",
              "      <td>1</td>\n",
              "      <td>350010</td>\n",
              "      <td>1</td>\n",
              "      <td>515.630000</td>\n",
              "      <td>4.0</td>\n",
              "      <td>6.245389</td>\n",
              "      <td>1.386294</td>\n",
              "      <td>0.000000</td>\n",
              "      <td>Fabricação de produtos cerâmicos não-refratári...</td>\n",
              "      <td>2300</td>\n",
              "      <td>Fabricação de produtos de minerais não-metálicos</td>\n",
              "      <td>1</td>\n",
              "      <td>PÓS 2008</td>\n",
              "      <td>1</td>\n",
              "      <td>0</td>\n",
              "      <td>1</td>\n",
              "      <td>Secundário</td>\n",
              "      <td>0</td>\n",
              "      <td>1</td>\n",
              "      <td>0</td>\n",
              "      <td>0.884527</td>\n",
              "      <td>0.367020</td>\n",
              "      <td>0.219605</td>\n",
              "      <td>0</td>\n",
              "      <td>23427350010</td>\n",
              "    </tr>\n",
              "    <tr>\n",
              "      <th>10</th>\n",
              "      <td>2006</td>\n",
              "      <td>1512</td>\n",
              "      <td>0</td>\n",
              "      <td>350010</td>\n",
              "      <td>121</td>\n",
              "      <td>505.574322</td>\n",
              "      <td>118.0</td>\n",
              "      <td>6.225695</td>\n",
              "      <td>4.770685</td>\n",
              "      <td>4.795791</td>\n",
              "      <td>Criação de bovinos</td>\n",
              "      <td>192</td>\n",
              "      <td>Pecuária, inclusive o apoio à pecuária</td>\n",
              "      <td>1</td>\n",
              "      <td>PÓS 2008</td>\n",
              "      <td>1</td>\n",
              "      <td>0</td>\n",
              "      <td>1</td>\n",
              "      <td>Primário</td>\n",
              "      <td>1</td>\n",
              "      <td>0</td>\n",
              "      <td>0</td>\n",
              "      <td>0.859273</td>\n",
              "      <td>0.524527</td>\n",
              "      <td>0.935732</td>\n",
              "      <td>0</td>\n",
              "      <td>1512350010</td>\n",
              "    </tr>\n",
              "    <tr>\n",
              "      <th>23</th>\n",
              "      <td>2006</td>\n",
              "      <td>31012</td>\n",
              "      <td>1</td>\n",
              "      <td>350010</td>\n",
              "      <td>12</td>\n",
              "      <td>569.338627</td>\n",
              "      <td>51.0</td>\n",
              "      <td>6.344475</td>\n",
              "      <td>3.931826</td>\n",
              "      <td>2.484907</td>\n",
              "      <td>Fabricação de móveis com predominância de madeira</td>\n",
              "      <td>3180</td>\n",
              "      <td>Fabricação de móveis e de produtos de indústri...</td>\n",
              "      <td>1</td>\n",
              "      <td>SEM ST</td>\n",
              "      <td>0</td>\n",
              "      <td>0</td>\n",
              "      <td>0</td>\n",
              "      <td>Secundário</td>\n",
              "      <td>0</td>\n",
              "      <td>1</td>\n",
              "      <td>0</td>\n",
              "      <td>0.158962</td>\n",
              "      <td>0.329489</td>\n",
              "      <td>0.150950</td>\n",
              "      <td>0</td>\n",
              "      <td>31012350010</td>\n",
              "    </tr>\n",
              "    <tr>\n",
              "      <th>26</th>\n",
              "      <td>2006</td>\n",
              "      <td>1610</td>\n",
              "      <td>1</td>\n",
              "      <td>350010</td>\n",
              "      <td>4</td>\n",
              "      <td>630.193333</td>\n",
              "      <td>12.0</td>\n",
              "      <td>6.446027</td>\n",
              "      <td>2.484907</td>\n",
              "      <td>1.386294</td>\n",
              "      <td>Atividades de apoio à agricultura</td>\n",
              "      <td>191</td>\n",
              "      <td>Agricultura, inclusive o apoio à agricultura e...</td>\n",
              "      <td>1</td>\n",
              "      <td>SEM ST</td>\n",
              "      <td>0</td>\n",
              "      <td>0</td>\n",
              "      <td>0</td>\n",
              "      <td>Primário</td>\n",
              "      <td>1</td>\n",
              "      <td>0</td>\n",
              "      <td>0</td>\n",
              "      <td>0.265037</td>\n",
              "      <td>0.436178</td>\n",
              "      <td>0.787496</td>\n",
              "      <td>0</td>\n",
              "      <td>1610350010</td>\n",
              "    </tr>\n",
              "    <tr>\n",
              "      <th>28</th>\n",
              "      <td>2006</td>\n",
              "      <td>1130</td>\n",
              "      <td>0</td>\n",
              "      <td>350010</td>\n",
              "      <td>8</td>\n",
              "      <td>1081.608167</td>\n",
              "      <td>311.0</td>\n",
              "      <td>6.986204</td>\n",
              "      <td>5.739793</td>\n",
              "      <td>2.079442</td>\n",
              "      <td>Cultivo de cana-de-açúcar</td>\n",
              "      <td>191</td>\n",
              "      <td>Agricultura, inclusive o apoio à agricultura e...</td>\n",
              "      <td>1</td>\n",
              "      <td>SEM ST</td>\n",
              "      <td>0</td>\n",
              "      <td>0</td>\n",
              "      <td>0</td>\n",
              "      <td>Primário</td>\n",
              "      <td>1</td>\n",
              "      <td>0</td>\n",
              "      <td>0</td>\n",
              "      <td>0.265037</td>\n",
              "      <td>0.436178</td>\n",
              "      <td>0.787496</td>\n",
              "      <td>0</td>\n",
              "      <td>1130350010</td>\n",
              "    </tr>\n",
              "  </tbody>\n",
              "</table>\n",
              "</div>"
            ],
            "text/plain": [
              "     ano  cnae_2  indicador_simples  ...      D_ST  DUMMY_MI_08  cnae_2_municipio\n",
              "8   2006   23427                  1  ...  0.219605            0       23427350010\n",
              "10  2006    1512                  0  ...  0.935732            0        1512350010\n",
              "23  2006   31012                  1  ...  0.150950            0       31012350010\n",
              "26  2006    1610                  1  ...  0.787496            0        1610350010\n",
              "28  2006    1130                  0  ...  0.787496            0        1130350010\n",
              "\n",
              "[5 rows x 27 columns]"
            ]
          },
          "metadata": {
            "tags": []
          },
          "execution_count": 128
        }
      ]
    },
    {
      "cell_type": "code",
      "metadata": {
        "colab": {
          "base_uri": "https://localhost:8080/"
        },
        "id": "ziEttivseMWN",
        "outputId": "42316038-386c-454d-f8f9-51eb99be43fa"
      },
      "source": [
        "df2 = df1.set_index(['cnae_2_municipio','ano'])\r\n",
        "df2.head()"
      ],
      "execution_count": null,
      "outputs": [
        {
          "output_type": "execute_result",
          "data": {
            "text/plain": [
              "cnae_2                      413654\n",
              "indicador_simples           413654\n",
              "id_municipio_6              413654\n",
              "qtd_empresas                413654\n",
              "rem_med                     393047\n",
              "empregados_ativos           393047\n",
              "rem_med_log                 393047\n",
              "empregados_ativos_log       393047\n",
              "qtd_empresas_log            413654\n",
              "DESC_CNAE2_5D               413654\n",
              "ATIVIDADE_CONTA_NACIONAL    413654\n",
              "DESC_ATIVIDADE              413654\n",
              "SETOR_COM_ST                413654\n",
              "ST_CNAE_CNAE                413654\n",
              "DUMMY_ST_CNAE               413654\n",
              "DUMMY_ST_PRE08              413654\n",
              "DUMMY_ST_POS08              413654\n",
              "SETOR                       413654\n",
              "DUMMY_PRIMARIO              413654\n",
              "DUMMY_SECUNDARIO            413654\n",
              "DUMMY_TERCIARIO             413654\n",
              "PERC_ATIV_ST                413654\n",
              "O_ST                        413654\n",
              "D_ST                        413654\n",
              "DUMMY_MI_08                 413654\n",
              "dtype: int64"
            ]
          },
          "metadata": {
            "tags": []
          },
          "execution_count": 135
        }
      ]
    },
    {
      "cell_type": "code",
      "metadata": {
        "colab": {
          "base_uri": "https://localhost:8080/",
          "height": 312
        },
        "id": "iSl54Xi7k_KQ",
        "outputId": "8fd6812d-567d-4580-9fc4-ff44b2313ae9"
      },
      "source": [
        "dfst = result_base_completa[result_base_completa.DUMMY_ST_POS08.isin([0])]\r\n",
        "dfst.groupby('ano')['qtd_empresas_log'].mean().plot.bar()"
      ],
      "execution_count": null,
      "outputs": [
        {
          "output_type": "execute_result",
          "data": {
            "text/plain": [
              "<matplotlib.axes._subplots.AxesSubplot at 0x7f8e18bb50d0>"
            ]
          },
          "metadata": {
            "tags": []
          },
          "execution_count": 131
        },
        {
          "output_type": "display_data",
          "data": {
            "image/png": "[encoded data removed]",
            "text/plain": [
              "<Figure size 432x288 with 1 Axes>"
            ]
          },
          "metadata": {
            "tags": [],
            "needs_background": "light"
          }
        }
      ]
    },
    {
      "cell_type": "code",
      "metadata": {
        "colab": {
          "base_uri": "https://localhost:8080/",
          "height": 312
        },
        "id": "QNQGwlaFm0AW",
        "outputId": "72481c2e-176b-4ecc-e26d-46ca1540b149"
      },
      "source": [
        "dfst = result_base_completa[result_base_completa.DUMMY_ST_POS08.isin([1])]\r\n",
        "dfst.groupby('ano')['qtd_empresas_log'].mean().plot.bar()"
      ],
      "execution_count": null,
      "outputs": [
        {
          "output_type": "execute_result",
          "data": {
            "text/plain": [
              "<matplotlib.axes._subplots.AxesSubplot at 0x7f8e3f347910>"
            ]
          },
          "metadata": {
            "tags": []
          },
          "execution_count": 132
        },
        {
          "output_type": "display_data",
          "data": {
            "image/png": "[encoded data removed]",
            "text/plain": [
              "<Figure size 432x288 with 1 Axes>"
            ]
          },
          "metadata": {
            "tags": [],
            "needs_background": "light"
          }
        }
      ]
    },
    {
      "cell_type": "code",
      "metadata": {
        "id": "h5tyPaThzrS7"
      },
      "source": [
        "# dependent variable = treated dummy + after intervention dummy + affected by * after dummy (+ other variables)\r\n",
        "# QTD_EMPRESAS = DUMMY_ST_POS08 + DUMMY_08_09 + DUMMY_ST_POS08*DUMMY_MI_08"
      ],
      "execution_count": null,
      "outputs": []
    },
    {
      "cell_type": "code",
      "metadata": {
        "id": "zDnSkLcVeV98"
      },
      "source": [
        "df_modelo_setst = result_base_completa[result_base.SETOR_COM_ST.isin([1])]\r\n",
        "\r\n",
        "# Chaves do modelo (tempo e variável)\r\n",
        "df_modelo = result_base_completa.set_index(['cnae_2_municipio','ano'])\r\n",
        "# df_modelo = df_modelo_setst.set_index(['cnae_2','ano'])\r\n",
        "\r\n",
        "# Constante\r\n",
        "df_modelo['const'] = 1\r\n",
        "\r\n",
        "# Interação da variável de intervenção com a temporal (quando passou a estar vigente)\r\n",
        "df_modelo['ST_INTERACAO'] = df_modelo['DUMMY_ST_POS08']*df_modelo['DUMMY_MI_08']\r\n",
        "df_modelo['O_ST'] = df_modelo['O_ST']*df_modelo['DUMMY_MI_08']\r\n",
        "df_modelo['D_ST'] = df_modelo['D_ST']*df_modelo['DUMMY_MI_08']"
      ],
      "execution_count": null,
      "outputs": []
    },
    {
      "cell_type": "code",
      "metadata": {
        "colab": {
          "base_uri": "https://localhost:8080/"
        },
        "id": "6NpUOM1zsIQm",
        "outputId": "f0ae4cb6-07e2-4ac2-ad92-31e9ab56ffd7"
      },
      "source": [
        "# Variável dependente\r\n",
        "# Y = df_modelo['empregados_ativos_log']\r\n",
        "# ST_INTERACAO      -0.0814\r\n",
        "# R-squared:                        0.0053\r\n",
        "\r\n",
        "# Y = df_modelo['rem_med_log']\r\n",
        "# ST_INTERACAO      -0.0134\r\n",
        "# R-squared:                        0.1403\r\n",
        "\r\n",
        "Y = df_modelo['qtd_empresas_log']\r\n",
        "# ST_INTERACAO      -0.0394 \r\n",
        "# R-squared:                        0.0038\r\n",
        "\r\n",
        "# Variáveis do modelo de diferença em diferenças (cluster_entity=True) indica que os erros estão clusterizados por CNAE)\r\n",
        "dd = ['const','DUMMY_ST_POS08','DUMMY_MI_08','ST_INTERACAO'\r\n",
        "# ,'O_ST','D_ST'\r\n",
        "]\r\n",
        "dif_in_dif = PanelOLS(Y, df_modelo[dd]).fit(cov_type='clustered',cluster_entity=True)\r\n",
        "print(dif_in_dif.summary)"
      ],
      "execution_count": null,
      "outputs": [
        {
          "output_type": "stream",
          "text": [
            "                          PanelOLS Estimation Summary                           \n",
            "================================================================================\n",
            "Dep. Variable:       qtd_empresas_log   R-squared:                        0.0038\n",
            "Estimator:                   PanelOLS   R-squared (Between):             -0.2240\n",
            "No. Observations:             1503011   R-squared (Within):               0.0013\n",
            "Date:                Tue, Mar 02 2021   R-squared (Overall):              0.0038\n",
            "Time:                        02:58:52   Log-likelihood                -2.313e+06\n",
            "Cov. Estimator:             Clustered                                           \n",
            "                                        F-statistic:                      1897.8\n",
            "Entities:                      126804   P-value                           0.0000\n",
            "Avg Obs:                       11.853   Distribution:               F(3,1503007)\n",
            "Min Obs:                       1.0000                                           \n",
            "Max Obs:                       28.000   F-statistic (robust):             212.29\n",
            "                                        P-value                           0.0000\n",
            "Time periods:                      14   Distribution:               F(3,1503007)\n",
            "Avg Obs:                    1.074e+05                                           \n",
            "Min Obs:                    9.042e+04                                           \n",
            "Max Obs:                     1.15e+05                                           \n",
            "                                                                                \n",
            "                               Parameter Estimates                                \n",
            "==================================================================================\n",
            "                Parameter  Std. Err.     T-stat    P-value    Lower CI    Upper CI\n",
            "----------------------------------------------------------------------------------\n",
            "const              0.9007     0.0044     202.78     0.0000      0.8920      0.9094\n",
            "DUMMY_ST_POS08    -0.1657     0.0105    -15.707     0.0000     -0.1864     -0.1450\n",
            "DUMMY_MI_08        0.0285     0.0021     13.387     0.0000      0.0244      0.0327\n",
            "ST_INTERACAO      -0.0394     0.0048    -8.1926     0.0000     -0.0488     -0.0300\n",
            "==================================================================================\n",
            "\n",
            "\n"
          ],
          "name": "stdout"
        }
      ]
    }
  ]
}